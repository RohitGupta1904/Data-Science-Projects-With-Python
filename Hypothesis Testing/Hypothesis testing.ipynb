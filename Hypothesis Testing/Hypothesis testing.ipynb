{
 "cells": [
  {
   "cell_type": "code",
   "execution_count": 87,
   "id": "fdf694e7",
   "metadata": {},
   "outputs": [],
   "source": [
    "import numpy as np"
   ]
  },
  {
   "cell_type": "code",
   "execution_count": 88,
   "id": "e7672ab4",
   "metadata": {},
   "outputs": [],
   "source": [
    "import pandas as pd"
   ]
  },
  {
   "cell_type": "code",
   "execution_count": 89,
   "id": "b0c8cef8",
   "metadata": {},
   "outputs": [],
   "source": [
    "import datetime as dt"
   ]
  },
  {
   "cell_type": "code",
   "execution_count": 90,
   "id": "f56028c6",
   "metadata": {},
   "outputs": [],
   "source": [
    "import matplotlib.pyplot as plt"
   ]
  },
  {
   "cell_type": "code",
   "execution_count": 91,
   "id": "5dbe7853",
   "metadata": {},
   "outputs": [],
   "source": [
    "import seaborn as sns"
   ]
  },
  {
   "cell_type": "code",
   "execution_count": 92,
   "id": "72f4671d",
   "metadata": {},
   "outputs": [],
   "source": [
    "import scipy.stats as stats"
   ]
  },
  {
   "cell_type": "markdown",
   "id": "f4a57da8",
   "metadata": {},
   "source": [
    "### Business Problem 1"
   ]
  },
  {
   "cell_type": "code",
   "execution_count": 93,
   "id": "5cb3366e",
   "metadata": {},
   "outputs": [
    {
     "data": {
      "text/html": [
       "<div>\n",
       "<style scoped>\n",
       "    .dataframe tbody tr th:only-of-type {\n",
       "        vertical-align: middle;\n",
       "    }\n",
       "\n",
       "    .dataframe tbody tr th {\n",
       "        vertical-align: top;\n",
       "    }\n",
       "\n",
       "    .dataframe thead th {\n",
       "        text-align: right;\n",
       "    }\n",
       "</style>\n",
       "<table border=\"1\" class=\"dataframe\">\n",
       "  <thead>\n",
       "    <tr style=\"text-align: right;\">\n",
       "      <th></th>\n",
       "      <th>Amount.Requested</th>\n",
       "      <th>Amount.Funded.By.Investors</th>\n",
       "      <th>Interest.Rate</th>\n",
       "      <th>Loan.Length</th>\n",
       "      <th>Loan.Purpose</th>\n",
       "      <th>Debt.To.Income.Ratio</th>\n",
       "      <th>State</th>\n",
       "      <th>Home.Ownership</th>\n",
       "      <th>Monthly.Income</th>\n",
       "      <th>FICO.Range</th>\n",
       "      <th>Open.CREDIT.Lines</th>\n",
       "      <th>Revolving.CREDIT.Balance</th>\n",
       "      <th>Inquiries.in.the.Last.6.Months</th>\n",
       "      <th>Employment.Length</th>\n",
       "    </tr>\n",
       "  </thead>\n",
       "  <tbody>\n",
       "    <tr>\n",
       "      <th>0</th>\n",
       "      <td>20000.0</td>\n",
       "      <td>20000.00</td>\n",
       "      <td>8.90%</td>\n",
       "      <td>36 months</td>\n",
       "      <td>debt_consolidation</td>\n",
       "      <td>14.90%</td>\n",
       "      <td>SC</td>\n",
       "      <td>MORTGAGE</td>\n",
       "      <td>6541.67</td>\n",
       "      <td>735-739</td>\n",
       "      <td>14.0</td>\n",
       "      <td>14272.0</td>\n",
       "      <td>2.0</td>\n",
       "      <td>&lt; 1 year</td>\n",
       "    </tr>\n",
       "    <tr>\n",
       "      <th>1</th>\n",
       "      <td>19200.0</td>\n",
       "      <td>19200.00</td>\n",
       "      <td>12.12%</td>\n",
       "      <td>36 months</td>\n",
       "      <td>debt_consolidation</td>\n",
       "      <td>28.36%</td>\n",
       "      <td>TX</td>\n",
       "      <td>MORTGAGE</td>\n",
       "      <td>4583.33</td>\n",
       "      <td>715-719</td>\n",
       "      <td>12.0</td>\n",
       "      <td>11140.0</td>\n",
       "      <td>1.0</td>\n",
       "      <td>2 years</td>\n",
       "    </tr>\n",
       "    <tr>\n",
       "      <th>2</th>\n",
       "      <td>35000.0</td>\n",
       "      <td>35000.00</td>\n",
       "      <td>21.98%</td>\n",
       "      <td>60 months</td>\n",
       "      <td>debt_consolidation</td>\n",
       "      <td>23.81%</td>\n",
       "      <td>CA</td>\n",
       "      <td>MORTGAGE</td>\n",
       "      <td>11500.00</td>\n",
       "      <td>690-694</td>\n",
       "      <td>14.0</td>\n",
       "      <td>21977.0</td>\n",
       "      <td>1.0</td>\n",
       "      <td>2 years</td>\n",
       "    </tr>\n",
       "    <tr>\n",
       "      <th>3</th>\n",
       "      <td>10000.0</td>\n",
       "      <td>9975.00</td>\n",
       "      <td>9.99%</td>\n",
       "      <td>36 months</td>\n",
       "      <td>debt_consolidation</td>\n",
       "      <td>14.30%</td>\n",
       "      <td>KS</td>\n",
       "      <td>MORTGAGE</td>\n",
       "      <td>3833.33</td>\n",
       "      <td>695-699</td>\n",
       "      <td>10.0</td>\n",
       "      <td>9346.0</td>\n",
       "      <td>0.0</td>\n",
       "      <td>5 years</td>\n",
       "    </tr>\n",
       "    <tr>\n",
       "      <th>4</th>\n",
       "      <td>12000.0</td>\n",
       "      <td>12000.00</td>\n",
       "      <td>11.71%</td>\n",
       "      <td>36 months</td>\n",
       "      <td>credit_card</td>\n",
       "      <td>18.78%</td>\n",
       "      <td>NJ</td>\n",
       "      <td>RENT</td>\n",
       "      <td>3195.00</td>\n",
       "      <td>695-699</td>\n",
       "      <td>11.0</td>\n",
       "      <td>14469.0</td>\n",
       "      <td>0.0</td>\n",
       "      <td>9 years</td>\n",
       "    </tr>\n",
       "    <tr>\n",
       "      <th>...</th>\n",
       "      <td>...</td>\n",
       "      <td>...</td>\n",
       "      <td>...</td>\n",
       "      <td>...</td>\n",
       "      <td>...</td>\n",
       "      <td>...</td>\n",
       "      <td>...</td>\n",
       "      <td>...</td>\n",
       "      <td>...</td>\n",
       "      <td>...</td>\n",
       "      <td>...</td>\n",
       "      <td>...</td>\n",
       "      <td>...</td>\n",
       "      <td>...</td>\n",
       "    </tr>\n",
       "    <tr>\n",
       "      <th>2495</th>\n",
       "      <td>30000.0</td>\n",
       "      <td>29950.00</td>\n",
       "      <td>16.77%</td>\n",
       "      <td>60 months</td>\n",
       "      <td>debt_consolidation</td>\n",
       "      <td>19.23%</td>\n",
       "      <td>NY</td>\n",
       "      <td>MORTGAGE</td>\n",
       "      <td>9250.00</td>\n",
       "      <td>705-709</td>\n",
       "      <td>15.0</td>\n",
       "      <td>45880.0</td>\n",
       "      <td>1.0</td>\n",
       "      <td>8 years</td>\n",
       "    </tr>\n",
       "    <tr>\n",
       "      <th>2496</th>\n",
       "      <td>16000.0</td>\n",
       "      <td>16000.00</td>\n",
       "      <td>14.09%</td>\n",
       "      <td>60 months</td>\n",
       "      <td>home_improvement</td>\n",
       "      <td>21.54%</td>\n",
       "      <td>MD</td>\n",
       "      <td>OWN</td>\n",
       "      <td>8903.25</td>\n",
       "      <td>740-744</td>\n",
       "      <td>18.0</td>\n",
       "      <td>18898.0</td>\n",
       "      <td>1.0</td>\n",
       "      <td>10+ years</td>\n",
       "    </tr>\n",
       "    <tr>\n",
       "      <th>2497</th>\n",
       "      <td>10000.0</td>\n",
       "      <td>10000.00</td>\n",
       "      <td>13.99%</td>\n",
       "      <td>36 months</td>\n",
       "      <td>debt_consolidation</td>\n",
       "      <td>4.89%</td>\n",
       "      <td>PA</td>\n",
       "      <td>MORTGAGE</td>\n",
       "      <td>2166.67</td>\n",
       "      <td>680-684</td>\n",
       "      <td>4.0</td>\n",
       "      <td>4544.0</td>\n",
       "      <td>0.0</td>\n",
       "      <td>10+ years</td>\n",
       "    </tr>\n",
       "    <tr>\n",
       "      <th>2498</th>\n",
       "      <td>6000.0</td>\n",
       "      <td>6000.00</td>\n",
       "      <td>12.42%</td>\n",
       "      <td>36 months</td>\n",
       "      <td>major_purchase</td>\n",
       "      <td>16.66%</td>\n",
       "      <td>NJ</td>\n",
       "      <td>RENT</td>\n",
       "      <td>3500.00</td>\n",
       "      <td>675-679</td>\n",
       "      <td>8.0</td>\n",
       "      <td>7753.0</td>\n",
       "      <td>0.0</td>\n",
       "      <td>5 years</td>\n",
       "    </tr>\n",
       "    <tr>\n",
       "      <th>2499</th>\n",
       "      <td>9000.0</td>\n",
       "      <td>5242.75</td>\n",
       "      <td>13.79%</td>\n",
       "      <td>36 months</td>\n",
       "      <td>debt_consolidation</td>\n",
       "      <td>6.76%</td>\n",
       "      <td>NY</td>\n",
       "      <td>RENT</td>\n",
       "      <td>3875.00</td>\n",
       "      <td>670-674</td>\n",
       "      <td>7.0</td>\n",
       "      <td>7589.0</td>\n",
       "      <td>0.0</td>\n",
       "      <td>10+ years</td>\n",
       "    </tr>\n",
       "  </tbody>\n",
       "</table>\n",
       "<p>2500 rows × 14 columns</p>\n",
       "</div>"
      ],
      "text/plain": [
       "      Amount.Requested  Amount.Funded.By.Investors Interest.Rate Loan.Length  \\\n",
       "0              20000.0                    20000.00         8.90%   36 months   \n",
       "1              19200.0                    19200.00        12.12%   36 months   \n",
       "2              35000.0                    35000.00        21.98%   60 months   \n",
       "3              10000.0                     9975.00         9.99%   36 months   \n",
       "4              12000.0                    12000.00        11.71%   36 months   \n",
       "...                ...                         ...           ...         ...   \n",
       "2495           30000.0                    29950.00        16.77%   60 months   \n",
       "2496           16000.0                    16000.00        14.09%   60 months   \n",
       "2497           10000.0                    10000.00        13.99%   36 months   \n",
       "2498            6000.0                     6000.00        12.42%   36 months   \n",
       "2499            9000.0                     5242.75        13.79%   36 months   \n",
       "\n",
       "            Loan.Purpose Debt.To.Income.Ratio State Home.Ownership  \\\n",
       "0     debt_consolidation               14.90%    SC       MORTGAGE   \n",
       "1     debt_consolidation               28.36%    TX       MORTGAGE   \n",
       "2     debt_consolidation               23.81%    CA       MORTGAGE   \n",
       "3     debt_consolidation               14.30%    KS       MORTGAGE   \n",
       "4            credit_card               18.78%    NJ           RENT   \n",
       "...                  ...                  ...   ...            ...   \n",
       "2495  debt_consolidation               19.23%    NY       MORTGAGE   \n",
       "2496    home_improvement               21.54%    MD            OWN   \n",
       "2497  debt_consolidation                4.89%    PA       MORTGAGE   \n",
       "2498      major_purchase               16.66%    NJ           RENT   \n",
       "2499  debt_consolidation                6.76%    NY           RENT   \n",
       "\n",
       "      Monthly.Income FICO.Range  Open.CREDIT.Lines  Revolving.CREDIT.Balance  \\\n",
       "0            6541.67    735-739               14.0                   14272.0   \n",
       "1            4583.33    715-719               12.0                   11140.0   \n",
       "2           11500.00    690-694               14.0                   21977.0   \n",
       "3            3833.33    695-699               10.0                    9346.0   \n",
       "4            3195.00    695-699               11.0                   14469.0   \n",
       "...              ...        ...                ...                       ...   \n",
       "2495         9250.00    705-709               15.0                   45880.0   \n",
       "2496         8903.25    740-744               18.0                   18898.0   \n",
       "2497         2166.67    680-684                4.0                    4544.0   \n",
       "2498         3500.00    675-679                8.0                    7753.0   \n",
       "2499         3875.00    670-674                7.0                    7589.0   \n",
       "\n",
       "      Inquiries.in.the.Last.6.Months Employment.Length  \n",
       "0                                2.0          < 1 year  \n",
       "1                                1.0           2 years  \n",
       "2                                1.0           2 years  \n",
       "3                                0.0           5 years  \n",
       "4                                0.0           9 years  \n",
       "...                              ...               ...  \n",
       "2495                             1.0           8 years  \n",
       "2496                             1.0         10+ years  \n",
       "2497                             0.0         10+ years  \n",
       "2498                             0.0           5 years  \n",
       "2499                             0.0         10+ years  \n",
       "\n",
       "[2500 rows x 14 columns]"
      ]
     },
     "execution_count": 93,
     "metadata": {},
     "output_type": "execute_result"
    }
   ],
   "source": [
    "loan_data=pd.read_csv(\"C:/Users/Rohit/Downloads/Python/Case Study/5 Hypothesis Testing/LoansData.csv\")\n",
    "loan_data"
   ]
  },
  {
   "cell_type": "code",
   "execution_count": 94,
   "id": "ec9d0da5",
   "metadata": {},
   "outputs": [
    {
     "name": "stdout",
     "output_type": "stream",
     "text": [
      "<class 'pandas.core.frame.DataFrame'>\n",
      "RangeIndex: 2500 entries, 0 to 2499\n",
      "Data columns (total 14 columns):\n",
      " #   Column                          Non-Null Count  Dtype  \n",
      "---  ------                          --------------  -----  \n",
      " 0   Amount.Requested                2499 non-null   float64\n",
      " 1   Amount.Funded.By.Investors      2499 non-null   float64\n",
      " 2   Interest.Rate                   2498 non-null   object \n",
      " 3   Loan.Length                     2500 non-null   object \n",
      " 4   Loan.Purpose                    2500 non-null   object \n",
      " 5   Debt.To.Income.Ratio            2499 non-null   object \n",
      " 6   State                           2500 non-null   object \n",
      " 7   Home.Ownership                  2499 non-null   object \n",
      " 8   Monthly.Income                  2499 non-null   float64\n",
      " 9   FICO.Range                      2498 non-null   object \n",
      " 10  Open.CREDIT.Lines               2497 non-null   float64\n",
      " 11  Revolving.CREDIT.Balance        2497 non-null   float64\n",
      " 12  Inquiries.in.the.Last.6.Months  2497 non-null   float64\n",
      " 13  Employment.Length               2423 non-null   object \n",
      "dtypes: float64(6), object(8)\n",
      "memory usage: 273.6+ KB\n"
     ]
    }
   ],
   "source": [
    "loan_data.info()"
   ]
  },
  {
   "cell_type": "code",
   "execution_count": 95,
   "id": "c599b9c8",
   "metadata": {},
   "outputs": [
    {
     "data": {
      "text/plain": [
       "(2500, 14)"
      ]
     },
     "execution_count": 95,
     "metadata": {},
     "output_type": "execute_result"
    }
   ],
   "source": [
    "loan_data.shape"
   ]
  },
  {
   "cell_type": "code",
   "execution_count": 96,
   "id": "6aaebde8",
   "metadata": {},
   "outputs": [
    {
     "data": {
      "text/plain": [
       "Amount.Requested                   1\n",
       "Amount.Funded.By.Investors         1\n",
       "Interest.Rate                      2\n",
       "Loan.Length                        0\n",
       "Loan.Purpose                       0\n",
       "Debt.To.Income.Ratio               1\n",
       "State                              0\n",
       "Home.Ownership                     1\n",
       "Monthly.Income                     1\n",
       "FICO.Range                         2\n",
       "Open.CREDIT.Lines                  3\n",
       "Revolving.CREDIT.Balance           3\n",
       "Inquiries.in.the.Last.6.Months     3\n",
       "Employment.Length                 77\n",
       "dtype: int64"
      ]
     },
     "execution_count": 96,
     "metadata": {},
     "output_type": "execute_result"
    }
   ],
   "source": [
    "loan_data.isna().sum()"
   ]
  },
  {
   "cell_type": "code",
   "execution_count": 97,
   "id": "e4955fed",
   "metadata": {},
   "outputs": [
    {
     "data": {
      "text/plain": [
       "Index(['Amount.Requested', 'Amount.Funded.By.Investors', 'Interest.Rate',\n",
       "       'Loan.Length', 'Loan.Purpose', 'Debt.To.Income.Ratio', 'State',\n",
       "       'Home.Ownership', 'Monthly.Income', 'FICO.Range', 'Open.CREDIT.Lines',\n",
       "       'Revolving.CREDIT.Balance', 'Inquiries.in.the.Last.6.Months',\n",
       "       'Employment.Length'],\n",
       "      dtype='object')"
      ]
     },
     "execution_count": 97,
     "metadata": {},
     "output_type": "execute_result"
    }
   ],
   "source": [
    "loan_data.columns"
   ]
  },
  {
   "cell_type": "code",
   "execution_count": 98,
   "id": "78c5b86a",
   "metadata": {},
   "outputs": [],
   "source": [
    "loan_data.columns=loan_data.columns.str.replace('.', '_', regex=True)"
   ]
  },
  {
   "cell_type": "code",
   "execution_count": 99,
   "id": "9ea51b0d",
   "metadata": {},
   "outputs": [
    {
     "data": {
      "text/html": [
       "<div>\n",
       "<style scoped>\n",
       "    .dataframe tbody tr th:only-of-type {\n",
       "        vertical-align: middle;\n",
       "    }\n",
       "\n",
       "    .dataframe tbody tr th {\n",
       "        vertical-align: top;\n",
       "    }\n",
       "\n",
       "    .dataframe thead th {\n",
       "        text-align: right;\n",
       "    }\n",
       "</style>\n",
       "<table border=\"1\" class=\"dataframe\">\n",
       "  <thead>\n",
       "    <tr style=\"text-align: right;\">\n",
       "      <th></th>\n",
       "      <th>Amount_Requested</th>\n",
       "      <th>Amount_Funded_By_Investors</th>\n",
       "      <th>Interest_Rate</th>\n",
       "      <th>Loan_Length</th>\n",
       "      <th>Loan_Purpose</th>\n",
       "      <th>Debt_To_Income_Ratio</th>\n",
       "      <th>State</th>\n",
       "      <th>Home_Ownership</th>\n",
       "      <th>Monthly_Income</th>\n",
       "      <th>FICO_Range</th>\n",
       "      <th>Open_CREDIT_Lines</th>\n",
       "      <th>Revolving_CREDIT_Balance</th>\n",
       "      <th>Inquiries_in_the_Last_6_Months</th>\n",
       "      <th>Employment_Length</th>\n",
       "    </tr>\n",
       "  </thead>\n",
       "  <tbody>\n",
       "    <tr>\n",
       "      <th>0</th>\n",
       "      <td>20000.0</td>\n",
       "      <td>20000.0</td>\n",
       "      <td>8.90%</td>\n",
       "      <td>36 months</td>\n",
       "      <td>debt_consolidation</td>\n",
       "      <td>14.90%</td>\n",
       "      <td>SC</td>\n",
       "      <td>MORTGAGE</td>\n",
       "      <td>6541.67</td>\n",
       "      <td>735-739</td>\n",
       "      <td>14.0</td>\n",
       "      <td>14272.0</td>\n",
       "      <td>2.0</td>\n",
       "      <td>&lt; 1 year</td>\n",
       "    </tr>\n",
       "    <tr>\n",
       "      <th>1</th>\n",
       "      <td>19200.0</td>\n",
       "      <td>19200.0</td>\n",
       "      <td>12.12%</td>\n",
       "      <td>36 months</td>\n",
       "      <td>debt_consolidation</td>\n",
       "      <td>28.36%</td>\n",
       "      <td>TX</td>\n",
       "      <td>MORTGAGE</td>\n",
       "      <td>4583.33</td>\n",
       "      <td>715-719</td>\n",
       "      <td>12.0</td>\n",
       "      <td>11140.0</td>\n",
       "      <td>1.0</td>\n",
       "      <td>2 years</td>\n",
       "    </tr>\n",
       "    <tr>\n",
       "      <th>2</th>\n",
       "      <td>35000.0</td>\n",
       "      <td>35000.0</td>\n",
       "      <td>21.98%</td>\n",
       "      <td>60 months</td>\n",
       "      <td>debt_consolidation</td>\n",
       "      <td>23.81%</td>\n",
       "      <td>CA</td>\n",
       "      <td>MORTGAGE</td>\n",
       "      <td>11500.00</td>\n",
       "      <td>690-694</td>\n",
       "      <td>14.0</td>\n",
       "      <td>21977.0</td>\n",
       "      <td>1.0</td>\n",
       "      <td>2 years</td>\n",
       "    </tr>\n",
       "  </tbody>\n",
       "</table>\n",
       "</div>"
      ],
      "text/plain": [
       "   Amount_Requested  Amount_Funded_By_Investors Interest_Rate Loan_Length  \\\n",
       "0           20000.0                     20000.0         8.90%   36 months   \n",
       "1           19200.0                     19200.0        12.12%   36 months   \n",
       "2           35000.0                     35000.0        21.98%   60 months   \n",
       "\n",
       "         Loan_Purpose Debt_To_Income_Ratio State Home_Ownership  \\\n",
       "0  debt_consolidation               14.90%    SC       MORTGAGE   \n",
       "1  debt_consolidation               28.36%    TX       MORTGAGE   \n",
       "2  debt_consolidation               23.81%    CA       MORTGAGE   \n",
       "\n",
       "   Monthly_Income FICO_Range  Open_CREDIT_Lines  Revolving_CREDIT_Balance  \\\n",
       "0         6541.67    735-739               14.0                   14272.0   \n",
       "1         4583.33    715-719               12.0                   11140.0   \n",
       "2        11500.00    690-694               14.0                   21977.0   \n",
       "\n",
       "   Inquiries_in_the_Last_6_Months Employment_Length  \n",
       "0                             2.0          < 1 year  \n",
       "1                             1.0           2 years  \n",
       "2                             1.0           2 years  "
      ]
     },
     "execution_count": 99,
     "metadata": {},
     "output_type": "execute_result"
    }
   ],
   "source": [
    "loan_data.head(3)"
   ]
  },
  {
   "cell_type": "code",
   "execution_count": 100,
   "id": "caa96c81",
   "metadata": {},
   "outputs": [],
   "source": [
    "loan_data['Interest_Rate']=loan_data['Interest_Rate'].str.replace('%', '').astype('float64')"
   ]
  },
  {
   "cell_type": "code",
   "execution_count": 101,
   "id": "6fb5afd2",
   "metadata": {},
   "outputs": [],
   "source": [
    "loan_data['Debt_To_Income_Ratio']=loan_data['Debt_To_Income_Ratio'].str.replace('%', '').astype('float64')"
   ]
  },
  {
   "cell_type": "code",
   "execution_count": 102,
   "id": "f0cacf61",
   "metadata": {},
   "outputs": [
    {
     "data": {
      "text/html": [
       "<div>\n",
       "<style scoped>\n",
       "    .dataframe tbody tr th:only-of-type {\n",
       "        vertical-align: middle;\n",
       "    }\n",
       "\n",
       "    .dataframe tbody tr th {\n",
       "        vertical-align: top;\n",
       "    }\n",
       "\n",
       "    .dataframe thead th {\n",
       "        text-align: right;\n",
       "    }\n",
       "</style>\n",
       "<table border=\"1\" class=\"dataframe\">\n",
       "  <thead>\n",
       "    <tr style=\"text-align: right;\">\n",
       "      <th></th>\n",
       "      <th>Amount_Requested</th>\n",
       "      <th>Amount_Funded_By_Investors</th>\n",
       "      <th>Interest_Rate</th>\n",
       "      <th>Loan_Length</th>\n",
       "      <th>Loan_Purpose</th>\n",
       "      <th>Debt_To_Income_Ratio</th>\n",
       "      <th>State</th>\n",
       "      <th>Home_Ownership</th>\n",
       "      <th>Monthly_Income</th>\n",
       "      <th>FICO_Range</th>\n",
       "      <th>Open_CREDIT_Lines</th>\n",
       "      <th>Revolving_CREDIT_Balance</th>\n",
       "      <th>Inquiries_in_the_Last_6_Months</th>\n",
       "      <th>Employment_Length</th>\n",
       "    </tr>\n",
       "  </thead>\n",
       "  <tbody>\n",
       "    <tr>\n",
       "      <th>0</th>\n",
       "      <td>20000.0</td>\n",
       "      <td>20000.00</td>\n",
       "      <td>8.90</td>\n",
       "      <td>36 months</td>\n",
       "      <td>debt_consolidation</td>\n",
       "      <td>14.90</td>\n",
       "      <td>SC</td>\n",
       "      <td>MORTGAGE</td>\n",
       "      <td>6541.67</td>\n",
       "      <td>735-739</td>\n",
       "      <td>14.0</td>\n",
       "      <td>14272.0</td>\n",
       "      <td>2.0</td>\n",
       "      <td>&lt; 1 year</td>\n",
       "    </tr>\n",
       "    <tr>\n",
       "      <th>1</th>\n",
       "      <td>19200.0</td>\n",
       "      <td>19200.00</td>\n",
       "      <td>12.12</td>\n",
       "      <td>36 months</td>\n",
       "      <td>debt_consolidation</td>\n",
       "      <td>28.36</td>\n",
       "      <td>TX</td>\n",
       "      <td>MORTGAGE</td>\n",
       "      <td>4583.33</td>\n",
       "      <td>715-719</td>\n",
       "      <td>12.0</td>\n",
       "      <td>11140.0</td>\n",
       "      <td>1.0</td>\n",
       "      <td>2 years</td>\n",
       "    </tr>\n",
       "    <tr>\n",
       "      <th>2</th>\n",
       "      <td>35000.0</td>\n",
       "      <td>35000.00</td>\n",
       "      <td>21.98</td>\n",
       "      <td>60 months</td>\n",
       "      <td>debt_consolidation</td>\n",
       "      <td>23.81</td>\n",
       "      <td>CA</td>\n",
       "      <td>MORTGAGE</td>\n",
       "      <td>11500.00</td>\n",
       "      <td>690-694</td>\n",
       "      <td>14.0</td>\n",
       "      <td>21977.0</td>\n",
       "      <td>1.0</td>\n",
       "      <td>2 years</td>\n",
       "    </tr>\n",
       "    <tr>\n",
       "      <th>3</th>\n",
       "      <td>10000.0</td>\n",
       "      <td>9975.00</td>\n",
       "      <td>9.99</td>\n",
       "      <td>36 months</td>\n",
       "      <td>debt_consolidation</td>\n",
       "      <td>14.30</td>\n",
       "      <td>KS</td>\n",
       "      <td>MORTGAGE</td>\n",
       "      <td>3833.33</td>\n",
       "      <td>695-699</td>\n",
       "      <td>10.0</td>\n",
       "      <td>9346.0</td>\n",
       "      <td>0.0</td>\n",
       "      <td>5 years</td>\n",
       "    </tr>\n",
       "    <tr>\n",
       "      <th>4</th>\n",
       "      <td>12000.0</td>\n",
       "      <td>12000.00</td>\n",
       "      <td>11.71</td>\n",
       "      <td>36 months</td>\n",
       "      <td>credit_card</td>\n",
       "      <td>18.78</td>\n",
       "      <td>NJ</td>\n",
       "      <td>RENT</td>\n",
       "      <td>3195.00</td>\n",
       "      <td>695-699</td>\n",
       "      <td>11.0</td>\n",
       "      <td>14469.0</td>\n",
       "      <td>0.0</td>\n",
       "      <td>9 years</td>\n",
       "    </tr>\n",
       "    <tr>\n",
       "      <th>...</th>\n",
       "      <td>...</td>\n",
       "      <td>...</td>\n",
       "      <td>...</td>\n",
       "      <td>...</td>\n",
       "      <td>...</td>\n",
       "      <td>...</td>\n",
       "      <td>...</td>\n",
       "      <td>...</td>\n",
       "      <td>...</td>\n",
       "      <td>...</td>\n",
       "      <td>...</td>\n",
       "      <td>...</td>\n",
       "      <td>...</td>\n",
       "      <td>...</td>\n",
       "    </tr>\n",
       "    <tr>\n",
       "      <th>2495</th>\n",
       "      <td>30000.0</td>\n",
       "      <td>29950.00</td>\n",
       "      <td>16.77</td>\n",
       "      <td>60 months</td>\n",
       "      <td>debt_consolidation</td>\n",
       "      <td>19.23</td>\n",
       "      <td>NY</td>\n",
       "      <td>MORTGAGE</td>\n",
       "      <td>9250.00</td>\n",
       "      <td>705-709</td>\n",
       "      <td>15.0</td>\n",
       "      <td>45880.0</td>\n",
       "      <td>1.0</td>\n",
       "      <td>8 years</td>\n",
       "    </tr>\n",
       "    <tr>\n",
       "      <th>2496</th>\n",
       "      <td>16000.0</td>\n",
       "      <td>16000.00</td>\n",
       "      <td>14.09</td>\n",
       "      <td>60 months</td>\n",
       "      <td>home_improvement</td>\n",
       "      <td>21.54</td>\n",
       "      <td>MD</td>\n",
       "      <td>OWN</td>\n",
       "      <td>8903.25</td>\n",
       "      <td>740-744</td>\n",
       "      <td>18.0</td>\n",
       "      <td>18898.0</td>\n",
       "      <td>1.0</td>\n",
       "      <td>10+ years</td>\n",
       "    </tr>\n",
       "    <tr>\n",
       "      <th>2497</th>\n",
       "      <td>10000.0</td>\n",
       "      <td>10000.00</td>\n",
       "      <td>13.99</td>\n",
       "      <td>36 months</td>\n",
       "      <td>debt_consolidation</td>\n",
       "      <td>4.89</td>\n",
       "      <td>PA</td>\n",
       "      <td>MORTGAGE</td>\n",
       "      <td>2166.67</td>\n",
       "      <td>680-684</td>\n",
       "      <td>4.0</td>\n",
       "      <td>4544.0</td>\n",
       "      <td>0.0</td>\n",
       "      <td>10+ years</td>\n",
       "    </tr>\n",
       "    <tr>\n",
       "      <th>2498</th>\n",
       "      <td>6000.0</td>\n",
       "      <td>6000.00</td>\n",
       "      <td>12.42</td>\n",
       "      <td>36 months</td>\n",
       "      <td>major_purchase</td>\n",
       "      <td>16.66</td>\n",
       "      <td>NJ</td>\n",
       "      <td>RENT</td>\n",
       "      <td>3500.00</td>\n",
       "      <td>675-679</td>\n",
       "      <td>8.0</td>\n",
       "      <td>7753.0</td>\n",
       "      <td>0.0</td>\n",
       "      <td>5 years</td>\n",
       "    </tr>\n",
       "    <tr>\n",
       "      <th>2499</th>\n",
       "      <td>9000.0</td>\n",
       "      <td>5242.75</td>\n",
       "      <td>13.79</td>\n",
       "      <td>36 months</td>\n",
       "      <td>debt_consolidation</td>\n",
       "      <td>6.76</td>\n",
       "      <td>NY</td>\n",
       "      <td>RENT</td>\n",
       "      <td>3875.00</td>\n",
       "      <td>670-674</td>\n",
       "      <td>7.0</td>\n",
       "      <td>7589.0</td>\n",
       "      <td>0.0</td>\n",
       "      <td>10+ years</td>\n",
       "    </tr>\n",
       "  </tbody>\n",
       "</table>\n",
       "<p>2500 rows × 14 columns</p>\n",
       "</div>"
      ],
      "text/plain": [
       "      Amount_Requested  Amount_Funded_By_Investors  Interest_Rate Loan_Length  \\\n",
       "0              20000.0                    20000.00           8.90   36 months   \n",
       "1              19200.0                    19200.00          12.12   36 months   \n",
       "2              35000.0                    35000.00          21.98   60 months   \n",
       "3              10000.0                     9975.00           9.99   36 months   \n",
       "4              12000.0                    12000.00          11.71   36 months   \n",
       "...                ...                         ...            ...         ...   \n",
       "2495           30000.0                    29950.00          16.77   60 months   \n",
       "2496           16000.0                    16000.00          14.09   60 months   \n",
       "2497           10000.0                    10000.00          13.99   36 months   \n",
       "2498            6000.0                     6000.00          12.42   36 months   \n",
       "2499            9000.0                     5242.75          13.79   36 months   \n",
       "\n",
       "            Loan_Purpose  Debt_To_Income_Ratio State Home_Ownership  \\\n",
       "0     debt_consolidation                 14.90    SC       MORTGAGE   \n",
       "1     debt_consolidation                 28.36    TX       MORTGAGE   \n",
       "2     debt_consolidation                 23.81    CA       MORTGAGE   \n",
       "3     debt_consolidation                 14.30    KS       MORTGAGE   \n",
       "4            credit_card                 18.78    NJ           RENT   \n",
       "...                  ...                   ...   ...            ...   \n",
       "2495  debt_consolidation                 19.23    NY       MORTGAGE   \n",
       "2496    home_improvement                 21.54    MD            OWN   \n",
       "2497  debt_consolidation                  4.89    PA       MORTGAGE   \n",
       "2498      major_purchase                 16.66    NJ           RENT   \n",
       "2499  debt_consolidation                  6.76    NY           RENT   \n",
       "\n",
       "      Monthly_Income FICO_Range  Open_CREDIT_Lines  Revolving_CREDIT_Balance  \\\n",
       "0            6541.67    735-739               14.0                   14272.0   \n",
       "1            4583.33    715-719               12.0                   11140.0   \n",
       "2           11500.00    690-694               14.0                   21977.0   \n",
       "3            3833.33    695-699               10.0                    9346.0   \n",
       "4            3195.00    695-699               11.0                   14469.0   \n",
       "...              ...        ...                ...                       ...   \n",
       "2495         9250.00    705-709               15.0                   45880.0   \n",
       "2496         8903.25    740-744               18.0                   18898.0   \n",
       "2497         2166.67    680-684                4.0                    4544.0   \n",
       "2498         3500.00    675-679                8.0                    7753.0   \n",
       "2499         3875.00    670-674                7.0                    7589.0   \n",
       "\n",
       "      Inquiries_in_the_Last_6_Months Employment_Length  \n",
       "0                                2.0          < 1 year  \n",
       "1                                1.0           2 years  \n",
       "2                                1.0           2 years  \n",
       "3                                0.0           5 years  \n",
       "4                                0.0           9 years  \n",
       "...                              ...               ...  \n",
       "2495                             1.0           8 years  \n",
       "2496                             1.0         10+ years  \n",
       "2497                             0.0         10+ years  \n",
       "2498                             0.0           5 years  \n",
       "2499                             0.0         10+ years  \n",
       "\n",
       "[2500 rows x 14 columns]"
      ]
     },
     "execution_count": 102,
     "metadata": {},
     "output_type": "execute_result"
    }
   ],
   "source": [
    "loan_data"
   ]
  },
  {
   "cell_type": "code",
   "execution_count": 103,
   "id": "551ab65d",
   "metadata": {},
   "outputs": [],
   "source": [
    "loan_data_con=loan_data.select_dtypes(['int', 'float64']).columns"
   ]
  },
  {
   "cell_type": "code",
   "execution_count": 104,
   "id": "5cdcee63",
   "metadata": {},
   "outputs": [],
   "source": [
    "loan_data_cat=loan_data.select_dtypes('object').columns"
   ]
  },
  {
   "cell_type": "code",
   "execution_count": 105,
   "id": "c561e853",
   "metadata": {},
   "outputs": [],
   "source": [
    "for i in loan_data_con:\n",
    "    loan_data[i].fillna(loan_data[i].mean(), inplace=True)"
   ]
  },
  {
   "cell_type": "code",
   "execution_count": 106,
   "id": "276c47b7",
   "metadata": {},
   "outputs": [],
   "source": [
    "for i in loan_data_cat:\n",
    "    loan_data[i].fillna(loan_data[i].mode()[0], inplace=True)"
   ]
  },
  {
   "cell_type": "code",
   "execution_count": 107,
   "id": "14a3482a",
   "metadata": {},
   "outputs": [
    {
     "name": "stdout",
     "output_type": "stream",
     "text": [
      "<class 'pandas.core.frame.DataFrame'>\n",
      "RangeIndex: 2500 entries, 0 to 2499\n",
      "Data columns (total 14 columns):\n",
      " #   Column                          Non-Null Count  Dtype  \n",
      "---  ------                          --------------  -----  \n",
      " 0   Amount_Requested                2500 non-null   float64\n",
      " 1   Amount_Funded_By_Investors      2500 non-null   float64\n",
      " 2   Interest_Rate                   2500 non-null   float64\n",
      " 3   Loan_Length                     2500 non-null   object \n",
      " 4   Loan_Purpose                    2500 non-null   object \n",
      " 5   Debt_To_Income_Ratio            2500 non-null   float64\n",
      " 6   State                           2500 non-null   object \n",
      " 7   Home_Ownership                  2500 non-null   object \n",
      " 8   Monthly_Income                  2500 non-null   float64\n",
      " 9   FICO_Range                      2500 non-null   object \n",
      " 10  Open_CREDIT_Lines               2500 non-null   float64\n",
      " 11  Revolving_CREDIT_Balance        2500 non-null   float64\n",
      " 12  Inquiries_in_the_Last_6_Months  2500 non-null   float64\n",
      " 13  Employment_Length               2500 non-null   object \n",
      "dtypes: float64(8), object(6)\n",
      "memory usage: 273.6+ KB\n"
     ]
    }
   ],
   "source": [
    "loan_data.info()"
   ]
  },
  {
   "cell_type": "markdown",
   "id": "723b9a8d",
   "metadata": {},
   "source": [
    "##### Q a. Intrest rate is varied for different loan amounts (Less intrest charged for high loan amounts)"
   ]
  },
  {
   "cell_type": "markdown",
   "id": "3d5a98c2",
   "metadata": {},
   "source": [
    "**i. H0:**\n",
    "           Interest rate is not varying for different loan amount \n",
    "           \n",
    "   **ii. Ha:**\n",
    "           Interest rate is  varying for different loan amount\n",
    "   \n",
    "   **iii. CI = 95%**\n",
    "      pvalue = 0.05\n",
    "       \n",
    "   **iv. Perform pearson correlation:**\n"
   ]
  },
  {
   "cell_type": "code",
   "execution_count": 108,
   "id": "6b710796",
   "metadata": {},
   "outputs": [],
   "source": [
    "int_rate=loan_data['Interest_Rate']"
   ]
  },
  {
   "cell_type": "code",
   "execution_count": 109,
   "id": "b91d0f8d",
   "metadata": {},
   "outputs": [],
   "source": [
    "amt_req=loan_data['Amount_Requested']"
   ]
  },
  {
   "cell_type": "code",
   "execution_count": 110,
   "id": "73e8f329",
   "metadata": {},
   "outputs": [
    {
     "data": {
      "text/plain": [
       "(0.3324464059665682, 1.4148683739824417e-65)"
      ]
     },
     "execution_count": 110,
     "metadata": {},
     "output_type": "execute_result"
    }
   ],
   "source": [
    "stats.pearsonr(loan_data.Interest_Rate, loan_data.Amount_Requested)"
   ]
  },
  {
   "cell_type": "markdown",
   "id": "b56bd63c",
   "metadata": {},
   "source": [
    "v. Business Conclusion: \n",
    "* We reject the null hypopthesis\n",
    "            there is a direct near to weak relation between interest rate and loan amount"
   ]
  },
  {
   "cell_type": "markdown",
   "id": "eb76174b",
   "metadata": {},
   "source": [
    "#### Qb Loan length is directly effecting interest rate?"
   ]
  },
  {
   "cell_type": "code",
   "execution_count": 111,
   "id": "36a95678",
   "metadata": {},
   "outputs": [
    {
     "data": {
      "text/plain": [
       "0        8.90\n",
       "1       12.12\n",
       "3        9.99\n",
       "4       11.71\n",
       "5       15.31\n",
       "        ...  \n",
       "2492    10.08\n",
       "2494    14.65\n",
       "2497    13.99\n",
       "2498    12.42\n",
       "2499    13.79\n",
       "Name: Interest_Rate, Length: 1952, dtype: float64"
      ]
     },
     "execution_count": 111,
     "metadata": {},
     "output_type": "execute_result"
    }
   ],
   "source": [
    "len_36mon_interest = loan_data.loc[loan_data.Loan_Length=='36 months', 'Interest_Rate']\n",
    "len_36mon_interest"
   ]
  },
  {
   "cell_type": "code",
   "execution_count": 112,
   "id": "b8cd1abd",
   "metadata": {},
   "outputs": [
    {
     "data": {
      "text/plain": [
       "2       21.98\n",
       "7       17.14\n",
       "12      21.67\n",
       "15      15.65\n",
       "17      10.37\n",
       "        ...  \n",
       "2472    22.45\n",
       "2479    15.80\n",
       "2493    23.28\n",
       "2495    16.77\n",
       "2496    14.09\n",
       "Name: Interest_Rate, Length: 548, dtype: float64"
      ]
     },
     "execution_count": 112,
     "metadata": {},
     "output_type": "execute_result"
    }
   ],
   "source": [
    "len_60mon_interest = loan_data.loc[loan_data.Loan_Length=='60 months', 'Interest_Rate']\n",
    "len_60mon_interest"
   ]
  },
  {
   "cell_type": "markdown",
   "id": "c58e2458",
   "metadata": {},
   "source": [
    "**i. H0:**\n",
    "           Loan length is not effecting interest rate \n",
    "           \n",
    "   **ii. Ha:**\n",
    "           Loan length is effecting interest rate\n",
    "   \n",
    "   **iii. CI = 95%**\n",
    "      pvalue = 0.05\n",
    "       \n",
    "   **iv. Perform ttest:**"
   ]
  },
  {
   "cell_type": "code",
   "execution_count": 113,
   "id": "5411e051",
   "metadata": {},
   "outputs": [
    {
     "data": {
      "text/plain": [
       "Ttest_indResult(statistic=-23.41049023613487, pvalue=9.549596064332559e-110)"
      ]
     },
     "execution_count": 113,
     "metadata": {},
     "output_type": "execute_result"
    }
   ],
   "source": [
    "stats.ttest_ind(len_36mon_interest, len_60mon_interest)"
   ]
  },
  {
   "cell_type": "markdown",
   "id": "c7237138",
   "metadata": {},
   "source": [
    "v. Business Conclusion: \n",
    "* We reject the null hypopthesis\n",
    "            Loan length is effeceting the interest rate"
   ]
  },
  {
   "cell_type": "markdown",
   "id": "6904e929",
   "metadata": {},
   "source": [
    "#### Qc Interest rate varies for different purpose of loans?"
   ]
  },
  {
   "cell_type": "code",
   "execution_count": 114,
   "id": "6e179621",
   "metadata": {
    "scrolled": true
   },
   "outputs": [
    {
     "data": {
      "text/plain": [
       "debt_consolidation    1307\n",
       "credit_card            444\n",
       "other                  201\n",
       "home_improvement       152\n",
       "major_purchase         101\n",
       "small_business          87\n",
       "car                     50\n",
       "wedding                 39\n",
       "medical                 30\n",
       "moving                  29\n",
       "vacation                21\n",
       "house                   20\n",
       "educational             15\n",
       "renewable_energy         4\n",
       "Name: Loan_Purpose, dtype: int64"
      ]
     },
     "execution_count": 114,
     "metadata": {},
     "output_type": "execute_result"
    }
   ],
   "source": [
    "loan_data.Loan_Purpose.value_counts()"
   ]
  },
  {
   "cell_type": "code",
   "execution_count": 115,
   "id": "307528af",
   "metadata": {},
   "outputs": [
    {
     "data": {
      "text/plain": [
       "0        8.90\n",
       "1       12.12\n",
       "2       21.98\n",
       "3        9.99\n",
       "6        7.90\n",
       "        ...  \n",
       "2492    10.08\n",
       "2494    14.65\n",
       "2495    16.77\n",
       "2497    13.99\n",
       "2499    13.79\n",
       "Name: Interest_Rate, Length: 1307, dtype: float64"
      ]
     },
     "execution_count": 115,
     "metadata": {},
     "output_type": "execute_result"
    }
   ],
   "source": [
    "int_rate_debt_consolidation = loan_data.loc[ loan_data.Loan_Purpose == 'debt_consolidation', 'Interest_Rate']\n",
    "int_rate_debt_consolidation"
   ]
  },
  {
   "cell_type": "code",
   "execution_count": 116,
   "id": "9185a63f",
   "metadata": {},
   "outputs": [
    {
     "data": {
      "text/plain": [
       "4       11.710000\n",
       "7       17.140000\n",
       "8       14.330000\n",
       "9        6.910000\n",
       "18       9.760000\n",
       "          ...    \n",
       "2463     7.900000\n",
       "2467     7.290000\n",
       "2476    14.090000\n",
       "2478    11.710000\n",
       "2484    13.065388\n",
       "Name: Interest_Rate, Length: 444, dtype: float64"
      ]
     },
     "execution_count": 116,
     "metadata": {},
     "output_type": "execute_result"
    }
   ],
   "source": [
    "int_rate_credit_card = loan_data.loc[ loan_data.Loan_Purpose == 'credit_card', 'Interest_Rate']\n",
    "int_rate_credit_card"
   ]
  },
  {
   "cell_type": "code",
   "execution_count": 117,
   "id": "67ecad40",
   "metadata": {},
   "outputs": [
    {
     "data": {
      "text/plain": [
       "5       15.31\n",
       "28       8.59\n",
       "48       7.49\n",
       "51      17.44\n",
       "57       9.99\n",
       "        ...  \n",
       "2443    14.59\n",
       "2450    14.79\n",
       "2468     7.29\n",
       "2486    17.27\n",
       "2493    23.28\n",
       "Name: Interest_Rate, Length: 201, dtype: float64"
      ]
     },
     "execution_count": 117,
     "metadata": {},
     "output_type": "execute_result"
    }
   ],
   "source": [
    "int_rate_other = loan_data.loc[ loan_data.Loan_Purpose == 'other', 'Interest_Rate']\n",
    "int_rate_other"
   ]
  },
  {
   "cell_type": "code",
   "execution_count": 118,
   "id": "59a7a1f2",
   "metadata": {},
   "outputs": [
    {
     "data": {
      "text/plain": [
       "37       7.62\n",
       "39      12.49\n",
       "40      17.27\n",
       "69      14.09\n",
       "88       7.51\n",
       "        ...  \n",
       "2461     7.90\n",
       "2462    11.49\n",
       "2465     6.03\n",
       "2466    22.47\n",
       "2496    14.09\n",
       "Name: Interest_Rate, Length: 152, dtype: float64"
      ]
     },
     "execution_count": 118,
     "metadata": {},
     "output_type": "execute_result"
    }
   ],
   "source": [
    "int_rate_home_improvement = loan_data.loc[ loan_data.Loan_Purpose == 'home_improvement', 'Interest_Rate']\n",
    "int_rate_home_improvement"
   ]
  },
  {
   "cell_type": "code",
   "execution_count": 119,
   "id": "f1627768",
   "metadata": {},
   "outputs": [
    {
     "data": {
      "text/plain": [
       "45      11.86\n",
       "95       6.62\n",
       "152     10.75\n",
       "163     10.16\n",
       "175     10.38\n",
       "        ...  \n",
       "2421     5.79\n",
       "2432    11.49\n",
       "2473    15.13\n",
       "2475    14.09\n",
       "2498    12.42\n",
       "Name: Interest_Rate, Length: 101, dtype: float64"
      ]
     },
     "execution_count": 119,
     "metadata": {},
     "output_type": "execute_result"
    }
   ],
   "source": [
    "int_rate_major_purchase = loan_data.loc[ loan_data.Loan_Purpose == 'major_purchase', 'Interest_Rate']\n",
    "int_rate_major_purchase"
   ]
  },
  {
   "cell_type": "code",
   "execution_count": 120,
   "id": "c4ef2591",
   "metadata": {},
   "outputs": [
    {
     "data": {
      "text/plain": [
       "92      15.81\n",
       "104     10.65\n",
       "110      7.90\n",
       "117     14.09\n",
       "136      6.62\n",
       "        ...  \n",
       "2435    20.52\n",
       "2454    18.64\n",
       "2480     6.03\n",
       "2482     7.51\n",
       "2483    14.33\n",
       "Name: Interest_Rate, Length: 87, dtype: float64"
      ]
     },
     "execution_count": 120,
     "metadata": {},
     "output_type": "execute_result"
    }
   ],
   "source": [
    "int_rate_small_business = loan_data.loc[ loan_data.Loan_Purpose == 'small_business', 'Interest_Rate']\n",
    "int_rate_small_business"
   ]
  },
  {
   "cell_type": "code",
   "execution_count": 121,
   "id": "734332f3",
   "metadata": {},
   "outputs": [
    {
     "data": {
      "text/plain": [
       "22      17.99\n",
       "33      15.80\n",
       "35       7.90\n",
       "86       8.90\n",
       "176      7.90\n",
       "292      6.03\n",
       "346     17.04\n",
       "370     14.09\n",
       "389     14.09\n",
       "394     19.72\n",
       "418      6.91\n",
       "539      7.49\n",
       "574     10.59\n",
       "590      6.99\n",
       "638     11.83\n",
       "696     13.43\n",
       "789     11.71\n",
       "891     13.67\n",
       "904     13.99\n",
       "941     13.47\n",
       "960     11.71\n",
       "984     11.12\n",
       "1005     7.88\n",
       "1016    10.00\n",
       "1059    13.16\n",
       "1079    13.23\n",
       "1149    17.99\n",
       "1192     6.62\n",
       "1215     6.03\n",
       "1325     6.03\n",
       "1379     5.79\n",
       "1410     8.90\n",
       "1424     8.90\n",
       "1496     9.25\n",
       "1627     7.90\n",
       "1633     7.62\n",
       "1658     7.62\n",
       "1707    17.14\n",
       "1880     9.63\n",
       "1921    13.11\n",
       "1950     6.62\n",
       "1985     7.49\n",
       "1991    13.49\n",
       "2011    10.36\n",
       "2116    17.49\n",
       "2209    18.25\n",
       "2338     7.90\n",
       "2402    13.93\n",
       "2434    14.33\n",
       "2444     6.62\n",
       "Name: Interest_Rate, dtype: float64"
      ]
     },
     "execution_count": 121,
     "metadata": {},
     "output_type": "execute_result"
    }
   ],
   "source": [
    "int_rate_car = loan_data.loc[ loan_data.Loan_Purpose == 'car', 'Interest_Rate']\n",
    "int_rate_car"
   ]
  },
  {
   "cell_type": "code",
   "execution_count": 122,
   "id": "3abc3257",
   "metadata": {},
   "outputs": [
    {
     "data": {
      "text/plain": [
       "78      17.770000\n",
       "273     15.270000\n",
       "341      7.900000\n",
       "361     16.490000\n",
       "408      6.620000\n",
       "429      9.910000\n",
       "432      7.900000\n",
       "453      7.620000\n",
       "565     14.090000\n",
       "642     10.370000\n",
       "678      7.900000\n",
       "693     13.720000\n",
       "770     12.690000\n",
       "808     10.250000\n",
       "811     18.490000\n",
       "821     12.980000\n",
       "885      7.900000\n",
       "931      9.990000\n",
       "1064    13.110000\n",
       "1288     7.620000\n",
       "1291     8.000000\n",
       "1313     7.900000\n",
       "1319     9.910000\n",
       "1345    12.120000\n",
       "1370     5.420000\n",
       "1482    14.420000\n",
       "1483    12.840000\n",
       "1705    15.310000\n",
       "1904    12.120000\n",
       "1964    17.880000\n",
       "1965    12.420000\n",
       "2035    11.860000\n",
       "2124    13.110000\n",
       "2206    15.310000\n",
       "2222     9.630000\n",
       "2272    16.290000\n",
       "2366    12.210000\n",
       "2472    22.450000\n",
       "2487    13.065388\n",
       "Name: Interest_Rate, dtype: float64"
      ]
     },
     "execution_count": 122,
     "metadata": {},
     "output_type": "execute_result"
    }
   ],
   "source": [
    "int_rate_wedding = loan_data.loc[ loan_data.Loan_Purpose == 'wedding', 'Interest_Rate']\n",
    "int_rate_wedding"
   ]
  },
  {
   "cell_type": "code",
   "execution_count": 123,
   "id": "fc1e0f1b",
   "metadata": {},
   "outputs": [
    {
     "data": {
      "text/plain": [
       "65       7.90\n",
       "234     14.09\n",
       "261     14.65\n",
       "291     15.80\n",
       "294     14.12\n",
       "340      5.42\n",
       "423      7.29\n",
       "837     23.28\n",
       "848      7.90\n",
       "879     13.11\n",
       "1250     6.03\n",
       "1293     6.62\n",
       "1309     7.62\n",
       "1355     6.03\n",
       "1576    13.11\n",
       "1577     7.90\n",
       "1582    16.29\n",
       "1690    14.27\n",
       "1779    13.57\n",
       "1852     6.99\n",
       "1854    14.22\n",
       "1946    17.49\n",
       "2000    10.59\n",
       "2022     7.49\n",
       "2038    19.69\n",
       "2123     7.51\n",
       "2182     6.54\n",
       "2189    13.98\n",
       "2238    13.99\n",
       "2451    16.00\n",
       "Name: Interest_Rate, dtype: float64"
      ]
     },
     "execution_count": 123,
     "metadata": {},
     "output_type": "execute_result"
    }
   ],
   "source": [
    "int_rate_medical = loan_data.loc[ loan_data.Loan_Purpose == 'medical', 'Interest_Rate']\n",
    "int_rate_medical"
   ]
  },
  {
   "cell_type": "code",
   "execution_count": 124,
   "id": "5019186a",
   "metadata": {},
   "outputs": [
    {
     "data": {
      "text/plain": [
       "10      19.72\n",
       "195      6.17\n",
       "209     13.11\n",
       "228     24.89\n",
       "349     10.99\n",
       "435      5.79\n",
       "497     12.21\n",
       "524     14.84\n",
       "659     14.33\n",
       "756     15.31\n",
       "1046    11.71\n",
       "1152     6.76\n",
       "1183    11.83\n",
       "1347    12.68\n",
       "1420    10.75\n",
       "1711    19.05\n",
       "1729     7.88\n",
       "1870    10.38\n",
       "1929    23.76\n",
       "1960    14.65\n",
       "1974    17.49\n",
       "2082    15.31\n",
       "2106    14.83\n",
       "2167    12.42\n",
       "2251    14.22\n",
       "2374     7.51\n",
       "2383    19.72\n",
       "2415    15.96\n",
       "2469    10.74\n",
       "Name: Interest_Rate, dtype: float64"
      ]
     },
     "execution_count": 124,
     "metadata": {},
     "output_type": "execute_result"
    }
   ],
   "source": [
    "int_rate_moving = loan_data.loc[ loan_data.Loan_Purpose == 'moving', 'Interest_Rate']\n",
    "int_rate_moving"
   ]
  },
  {
   "cell_type": "code",
   "execution_count": 125,
   "id": "f8bbeb75",
   "metadata": {},
   "outputs": [
    {
     "data": {
      "text/plain": [
       "24      16.82\n",
       "111      6.03\n",
       "130      9.76\n",
       "575      7.29\n",
       "1006    12.12\n",
       "1134    16.77\n",
       "1141    13.98\n",
       "1197     7.88\n",
       "1200    18.39\n",
       "1302    14.59\n",
       "1308     5.42\n",
       "1349    13.67\n",
       "1688     8.94\n",
       "1802    10.99\n",
       "1806    11.49\n",
       "1850    14.65\n",
       "1895    15.80\n",
       "1952     6.91\n",
       "2033    17.56\n",
       "2054     7.90\n",
       "2367    14.33\n",
       "Name: Interest_Rate, dtype: float64"
      ]
     },
     "execution_count": 125,
     "metadata": {},
     "output_type": "execute_result"
    }
   ],
   "source": [
    "int_rate_vacation = loan_data.loc[ loan_data.Loan_Purpose == 'vacation', 'Interest_Rate']\n",
    "int_rate_vacation"
   ]
  },
  {
   "cell_type": "code",
   "execution_count": 126,
   "id": "29efe7dc",
   "metadata": {},
   "outputs": [
    {
     "data": {
      "text/plain": [
       "43      21.74\n",
       "339     22.47\n",
       "369     13.11\n",
       "536     15.21\n",
       "806      9.63\n",
       "936      7.90\n",
       "1035    14.96\n",
       "1067     6.03\n",
       "1114    15.96\n",
       "1387    10.37\n",
       "1389    21.67\n",
       "1573    16.32\n",
       "1607     6.62\n",
       "1685    11.83\n",
       "1823    16.82\n",
       "2036    13.06\n",
       "2197    13.06\n",
       "2225     5.99\n",
       "2387    12.12\n",
       "2403    14.09\n",
       "Name: Interest_Rate, dtype: float64"
      ]
     },
     "execution_count": 126,
     "metadata": {},
     "output_type": "execute_result"
    }
   ],
   "source": [
    "int_rate_house = loan_data.loc[ loan_data.Loan_Purpose == 'house', 'Interest_Rate']\n",
    "int_rate_house"
   ]
  },
  {
   "cell_type": "code",
   "execution_count": 127,
   "id": "a71cf23d",
   "metadata": {},
   "outputs": [
    {
     "data": {
      "text/plain": [
       "59       8.59\n",
       "300     18.67\n",
       "401     12.29\n",
       "940     12.61\n",
       "974     13.48\n",
       "985      7.75\n",
       "1137    14.61\n",
       "1145     7.88\n",
       "1348     6.76\n",
       "1649     9.88\n",
       "1686    13.75\n",
       "1888    12.87\n",
       "2028     7.40\n",
       "2264     9.63\n",
       "2310     8.94\n",
       "Name: Interest_Rate, dtype: float64"
      ]
     },
     "execution_count": 127,
     "metadata": {},
     "output_type": "execute_result"
    }
   ],
   "source": [
    "int_rate_educational = loan_data.loc[ loan_data.Loan_Purpose == 'educational', 'Interest_Rate']\n",
    "int_rate_educational"
   ]
  },
  {
   "cell_type": "code",
   "execution_count": 128,
   "id": "023f7f5d",
   "metadata": {},
   "outputs": [
    {
     "data": {
      "text/plain": [
       "160      6.92\n",
       "289     10.36\n",
       "1060     7.90\n",
       "2246    14.33\n",
       "Name: Interest_Rate, dtype: float64"
      ]
     },
     "execution_count": 128,
     "metadata": {},
     "output_type": "execute_result"
    }
   ],
   "source": [
    "int_rate_renewable_energy = loan_data.loc[ loan_data.Loan_Purpose == 'renewable_energy', 'Interest_Rate']\n",
    "int_rate_renewable_energy"
   ]
  },
  {
   "cell_type": "markdown",
   "id": "516ea9df",
   "metadata": {},
   "source": [
    "**i. H0:**\n",
    "           Interest rate doesn't vary for different purpose of loan\n",
    "                         \n",
    "   **ii. Ha:**\n",
    "           Interest rate vary for different purpose of loan\n",
    "                           \n",
    "   **iii. CI = 95%**\n",
    "      pvalue = 0.05\n",
    "       \n",
    "   **iv. Perform f test:**"
   ]
  },
  {
   "cell_type": "code",
   "execution_count": 129,
   "id": "98a62f99",
   "metadata": {},
   "outputs": [
    {
     "data": {
      "text/plain": [
       "F_onewayResult(statistic=7.4826387840974355, pvalue=1.1599665535989115e-14)"
      ]
     },
     "execution_count": 129,
     "metadata": {},
     "output_type": "execute_result"
    }
   ],
   "source": [
    "stats.f_oneway(int_rate_debt_consolidation, int_rate_credit_card, int_rate_other, int_rate_home_improvement, int_rate_major_purchase, int_rate_small_business, int_rate_car, int_rate_wedding, int_rate_medical, int_rate_moving, int_rate_vacation, int_rate_house, int_rate_educational, int_rate_renewable_energy)"
   ]
  },
  {
   "cell_type": "markdown",
   "id": "33a9b9ab",
   "metadata": {},
   "source": [
    "v. Business Conclusion: \n",
    "* We reject the null hypopthesis\n",
    "            Interest rate vary for different purpose of loan"
   ]
  },
  {
   "cell_type": "code",
   "execution_count": 130,
   "id": "5117d7dc",
   "metadata": {},
   "outputs": [
    {
     "data": {
      "text/plain": [
       "38"
      ]
     },
     "execution_count": 130,
     "metadata": {},
     "output_type": "execute_result"
    }
   ],
   "source": [
    "loan_data.FICO_Range.nunique()"
   ]
  },
  {
   "cell_type": "markdown",
   "id": "54c3a22c",
   "metadata": {},
   "source": [
    "#### Qd. There is relationship between FICO scores and Home Ownership. It means that, People with owning home will have high FICO scores."
   ]
  },
  {
   "cell_type": "markdown",
   "id": "d1012a00",
   "metadata": {},
   "source": [
    "**i. H0:**\n",
    "           There is no relationship between FICO scores and home ownership\n",
    "           \n",
    "   **ii. Ha:**\n",
    "          There is a relationship between FICO scores and home ownership\n",
    "   \n",
    "   **iii. CI = 95%**\n",
    "      pvalue = 0.05\n",
    "       \n",
    "   **iv. Perform Chi-square test:**"
   ]
  },
  {
   "cell_type": "code",
   "execution_count": 131,
   "id": "4c3dfb7f",
   "metadata": {},
   "outputs": [
    {
     "data": {
      "text/html": [
       "<div>\n",
       "<style scoped>\n",
       "    .dataframe tbody tr th:only-of-type {\n",
       "        vertical-align: middle;\n",
       "    }\n",
       "\n",
       "    .dataframe tbody tr th {\n",
       "        vertical-align: top;\n",
       "    }\n",
       "\n",
       "    .dataframe thead th {\n",
       "        text-align: right;\n",
       "    }\n",
       "</style>\n",
       "<table border=\"1\" class=\"dataframe\">\n",
       "  <thead>\n",
       "    <tr style=\"text-align: right;\">\n",
       "      <th></th>\n",
       "      <th>Amount_Requested</th>\n",
       "      <th>Amount_Funded_By_Investors</th>\n",
       "      <th>Interest_Rate</th>\n",
       "      <th>Loan_Length</th>\n",
       "      <th>Loan_Purpose</th>\n",
       "      <th>Debt_To_Income_Ratio</th>\n",
       "      <th>State</th>\n",
       "      <th>Home_Ownership</th>\n",
       "      <th>Monthly_Income</th>\n",
       "      <th>FICO_Range</th>\n",
       "      <th>Open_CREDIT_Lines</th>\n",
       "      <th>Revolving_CREDIT_Balance</th>\n",
       "      <th>Inquiries_in_the_Last_6_Months</th>\n",
       "      <th>Employment_Length</th>\n",
       "    </tr>\n",
       "  </thead>\n",
       "  <tbody>\n",
       "    <tr>\n",
       "      <th>0</th>\n",
       "      <td>20000.0</td>\n",
       "      <td>20000.0</td>\n",
       "      <td>8.90</td>\n",
       "      <td>36 months</td>\n",
       "      <td>debt_consolidation</td>\n",
       "      <td>14.90</td>\n",
       "      <td>SC</td>\n",
       "      <td>MORTGAGE</td>\n",
       "      <td>6541.67</td>\n",
       "      <td>735-739</td>\n",
       "      <td>14.0</td>\n",
       "      <td>14272.0</td>\n",
       "      <td>2.0</td>\n",
       "      <td>&lt; 1 year</td>\n",
       "    </tr>\n",
       "    <tr>\n",
       "      <th>1</th>\n",
       "      <td>19200.0</td>\n",
       "      <td>19200.0</td>\n",
       "      <td>12.12</td>\n",
       "      <td>36 months</td>\n",
       "      <td>debt_consolidation</td>\n",
       "      <td>28.36</td>\n",
       "      <td>TX</td>\n",
       "      <td>MORTGAGE</td>\n",
       "      <td>4583.33</td>\n",
       "      <td>715-719</td>\n",
       "      <td>12.0</td>\n",
       "      <td>11140.0</td>\n",
       "      <td>1.0</td>\n",
       "      <td>2 years</td>\n",
       "    </tr>\n",
       "    <tr>\n",
       "      <th>2</th>\n",
       "      <td>35000.0</td>\n",
       "      <td>35000.0</td>\n",
       "      <td>21.98</td>\n",
       "      <td>60 months</td>\n",
       "      <td>debt_consolidation</td>\n",
       "      <td>23.81</td>\n",
       "      <td>CA</td>\n",
       "      <td>MORTGAGE</td>\n",
       "      <td>11500.00</td>\n",
       "      <td>690-694</td>\n",
       "      <td>14.0</td>\n",
       "      <td>21977.0</td>\n",
       "      <td>1.0</td>\n",
       "      <td>2 years</td>\n",
       "    </tr>\n",
       "  </tbody>\n",
       "</table>\n",
       "</div>"
      ],
      "text/plain": [
       "   Amount_Requested  Amount_Funded_By_Investors  Interest_Rate Loan_Length  \\\n",
       "0           20000.0                     20000.0           8.90   36 months   \n",
       "1           19200.0                     19200.0          12.12   36 months   \n",
       "2           35000.0                     35000.0          21.98   60 months   \n",
       "\n",
       "         Loan_Purpose  Debt_To_Income_Ratio State Home_Ownership  \\\n",
       "0  debt_consolidation                 14.90    SC       MORTGAGE   \n",
       "1  debt_consolidation                 28.36    TX       MORTGAGE   \n",
       "2  debt_consolidation                 23.81    CA       MORTGAGE   \n",
       "\n",
       "   Monthly_Income FICO_Range  Open_CREDIT_Lines  Revolving_CREDIT_Balance  \\\n",
       "0         6541.67    735-739               14.0                   14272.0   \n",
       "1         4583.33    715-719               12.0                   11140.0   \n",
       "2        11500.00    690-694               14.0                   21977.0   \n",
       "\n",
       "   Inquiries_in_the_Last_6_Months Employment_Length  \n",
       "0                             2.0          < 1 year  \n",
       "1                             1.0           2 years  \n",
       "2                             1.0           2 years  "
      ]
     },
     "execution_count": 131,
     "metadata": {},
     "output_type": "execute_result"
    }
   ],
   "source": [
    "loan_data.head(3)"
   ]
  },
  {
   "cell_type": "code",
   "execution_count": 132,
   "id": "febaaaec",
   "metadata": {},
   "outputs": [
    {
     "data": {
      "text/html": [
       "<div>\n",
       "<style scoped>\n",
       "    .dataframe tbody tr th:only-of-type {\n",
       "        vertical-align: middle;\n",
       "    }\n",
       "\n",
       "    .dataframe tbody tr th {\n",
       "        vertical-align: top;\n",
       "    }\n",
       "\n",
       "    .dataframe thead th {\n",
       "        text-align: right;\n",
       "    }\n",
       "</style>\n",
       "<table border=\"1\" class=\"dataframe\">\n",
       "  <thead>\n",
       "    <tr style=\"text-align: right;\">\n",
       "      <th>Home_Ownership</th>\n",
       "      <th>MORTGAGE</th>\n",
       "      <th>NONE</th>\n",
       "      <th>OTHER</th>\n",
       "      <th>OWN</th>\n",
       "      <th>RENT</th>\n",
       "    </tr>\n",
       "    <tr>\n",
       "      <th>FICO_Range</th>\n",
       "      <th></th>\n",
       "      <th></th>\n",
       "      <th></th>\n",
       "      <th></th>\n",
       "      <th></th>\n",
       "    </tr>\n",
       "  </thead>\n",
       "  <tbody>\n",
       "    <tr>\n",
       "      <th>640-644</th>\n",
       "      <td>0</td>\n",
       "      <td>0</td>\n",
       "      <td>0</td>\n",
       "      <td>1</td>\n",
       "      <td>4</td>\n",
       "    </tr>\n",
       "    <tr>\n",
       "      <th>645-649</th>\n",
       "      <td>1</td>\n",
       "      <td>0</td>\n",
       "      <td>0</td>\n",
       "      <td>0</td>\n",
       "      <td>2</td>\n",
       "    </tr>\n",
       "    <tr>\n",
       "      <th>650-654</th>\n",
       "      <td>1</td>\n",
       "      <td>0</td>\n",
       "      <td>0</td>\n",
       "      <td>0</td>\n",
       "      <td>0</td>\n",
       "    </tr>\n",
       "    <tr>\n",
       "      <th>655-659</th>\n",
       "      <td>0</td>\n",
       "      <td>0</td>\n",
       "      <td>1</td>\n",
       "      <td>0</td>\n",
       "      <td>3</td>\n",
       "    </tr>\n",
       "    <tr>\n",
       "      <th>660-664</th>\n",
       "      <td>41</td>\n",
       "      <td>0</td>\n",
       "      <td>0</td>\n",
       "      <td>17</td>\n",
       "      <td>67</td>\n",
       "    </tr>\n",
       "    <tr>\n",
       "      <th>665-669</th>\n",
       "      <td>52</td>\n",
       "      <td>0</td>\n",
       "      <td>0</td>\n",
       "      <td>18</td>\n",
       "      <td>75</td>\n",
       "    </tr>\n",
       "    <tr>\n",
       "      <th>670-674</th>\n",
       "      <td>68</td>\n",
       "      <td>0</td>\n",
       "      <td>1</td>\n",
       "      <td>13</td>\n",
       "      <td>91</td>\n",
       "    </tr>\n",
       "    <tr>\n",
       "      <th>675-679</th>\n",
       "      <td>79</td>\n",
       "      <td>0</td>\n",
       "      <td>1</td>\n",
       "      <td>11</td>\n",
       "      <td>75</td>\n",
       "    </tr>\n",
       "    <tr>\n",
       "      <th>680-684</th>\n",
       "      <td>55</td>\n",
       "      <td>0</td>\n",
       "      <td>2</td>\n",
       "      <td>9</td>\n",
       "      <td>91</td>\n",
       "    </tr>\n",
       "    <tr>\n",
       "      <th>685-689</th>\n",
       "      <td>61</td>\n",
       "      <td>0</td>\n",
       "      <td>0</td>\n",
       "      <td>10</td>\n",
       "      <td>65</td>\n",
       "    </tr>\n",
       "    <tr>\n",
       "      <th>690-694</th>\n",
       "      <td>55</td>\n",
       "      <td>0</td>\n",
       "      <td>0</td>\n",
       "      <td>10</td>\n",
       "      <td>75</td>\n",
       "    </tr>\n",
       "    <tr>\n",
       "      <th>695-699</th>\n",
       "      <td>68</td>\n",
       "      <td>0</td>\n",
       "      <td>0</td>\n",
       "      <td>10</td>\n",
       "      <td>75</td>\n",
       "    </tr>\n",
       "    <tr>\n",
       "      <th>700-704</th>\n",
       "      <td>60</td>\n",
       "      <td>0</td>\n",
       "      <td>0</td>\n",
       "      <td>12</td>\n",
       "      <td>59</td>\n",
       "    </tr>\n",
       "    <tr>\n",
       "      <th>705-709</th>\n",
       "      <td>66</td>\n",
       "      <td>0</td>\n",
       "      <td>0</td>\n",
       "      <td>12</td>\n",
       "      <td>56</td>\n",
       "    </tr>\n",
       "    <tr>\n",
       "      <th>710-714</th>\n",
       "      <td>55</td>\n",
       "      <td>0</td>\n",
       "      <td>0</td>\n",
       "      <td>10</td>\n",
       "      <td>47</td>\n",
       "    </tr>\n",
       "    <tr>\n",
       "      <th>715-719</th>\n",
       "      <td>46</td>\n",
       "      <td>0</td>\n",
       "      <td>0</td>\n",
       "      <td>2</td>\n",
       "      <td>45</td>\n",
       "    </tr>\n",
       "    <tr>\n",
       "      <th>720-724</th>\n",
       "      <td>49</td>\n",
       "      <td>0</td>\n",
       "      <td>0</td>\n",
       "      <td>1</td>\n",
       "      <td>64</td>\n",
       "    </tr>\n",
       "    <tr>\n",
       "      <th>725-729</th>\n",
       "      <td>48</td>\n",
       "      <td>0</td>\n",
       "      <td>0</td>\n",
       "      <td>5</td>\n",
       "      <td>41</td>\n",
       "    </tr>\n",
       "    <tr>\n",
       "      <th>730-734</th>\n",
       "      <td>46</td>\n",
       "      <td>0</td>\n",
       "      <td>0</td>\n",
       "      <td>7</td>\n",
       "      <td>41</td>\n",
       "    </tr>\n",
       "    <tr>\n",
       "      <th>735-739</th>\n",
       "      <td>30</td>\n",
       "      <td>0</td>\n",
       "      <td>0</td>\n",
       "      <td>6</td>\n",
       "      <td>29</td>\n",
       "    </tr>\n",
       "    <tr>\n",
       "      <th>740-744</th>\n",
       "      <td>26</td>\n",
       "      <td>0</td>\n",
       "      <td>0</td>\n",
       "      <td>4</td>\n",
       "      <td>23</td>\n",
       "    </tr>\n",
       "    <tr>\n",
       "      <th>745-749</th>\n",
       "      <td>26</td>\n",
       "      <td>0</td>\n",
       "      <td>0</td>\n",
       "      <td>7</td>\n",
       "      <td>21</td>\n",
       "    </tr>\n",
       "    <tr>\n",
       "      <th>750-754</th>\n",
       "      <td>32</td>\n",
       "      <td>0</td>\n",
       "      <td>0</td>\n",
       "      <td>4</td>\n",
       "      <td>25</td>\n",
       "    </tr>\n",
       "    <tr>\n",
       "      <th>755-759</th>\n",
       "      <td>28</td>\n",
       "      <td>0</td>\n",
       "      <td>0</td>\n",
       "      <td>6</td>\n",
       "      <td>12</td>\n",
       "    </tr>\n",
       "    <tr>\n",
       "      <th>760-764</th>\n",
       "      <td>28</td>\n",
       "      <td>0</td>\n",
       "      <td>0</td>\n",
       "      <td>4</td>\n",
       "      <td>14</td>\n",
       "    </tr>\n",
       "    <tr>\n",
       "      <th>765-769</th>\n",
       "      <td>22</td>\n",
       "      <td>0</td>\n",
       "      <td>0</td>\n",
       "      <td>3</td>\n",
       "      <td>11</td>\n",
       "    </tr>\n",
       "    <tr>\n",
       "      <th>770-774</th>\n",
       "      <td>12</td>\n",
       "      <td>0</td>\n",
       "      <td>0</td>\n",
       "      <td>1</td>\n",
       "      <td>4</td>\n",
       "    </tr>\n",
       "    <tr>\n",
       "      <th>775-779</th>\n",
       "      <td>13</td>\n",
       "      <td>0</td>\n",
       "      <td>0</td>\n",
       "      <td>3</td>\n",
       "      <td>6</td>\n",
       "    </tr>\n",
       "    <tr>\n",
       "      <th>780-784</th>\n",
       "      <td>21</td>\n",
       "      <td>0</td>\n",
       "      <td>0</td>\n",
       "      <td>3</td>\n",
       "      <td>4</td>\n",
       "    </tr>\n",
       "    <tr>\n",
       "      <th>785-789</th>\n",
       "      <td>12</td>\n",
       "      <td>0</td>\n",
       "      <td>0</td>\n",
       "      <td>2</td>\n",
       "      <td>5</td>\n",
       "    </tr>\n",
       "    <tr>\n",
       "      <th>790-794</th>\n",
       "      <td>15</td>\n",
       "      <td>0</td>\n",
       "      <td>0</td>\n",
       "      <td>1</td>\n",
       "      <td>4</td>\n",
       "    </tr>\n",
       "    <tr>\n",
       "      <th>795-799</th>\n",
       "      <td>7</td>\n",
       "      <td>0</td>\n",
       "      <td>0</td>\n",
       "      <td>1</td>\n",
       "      <td>5</td>\n",
       "    </tr>\n",
       "    <tr>\n",
       "      <th>800-804</th>\n",
       "      <td>7</td>\n",
       "      <td>1</td>\n",
       "      <td>0</td>\n",
       "      <td>3</td>\n",
       "      <td>2</td>\n",
       "    </tr>\n",
       "    <tr>\n",
       "      <th>805-809</th>\n",
       "      <td>6</td>\n",
       "      <td>0</td>\n",
       "      <td>0</td>\n",
       "      <td>2</td>\n",
       "      <td>3</td>\n",
       "    </tr>\n",
       "    <tr>\n",
       "      <th>810-814</th>\n",
       "      <td>5</td>\n",
       "      <td>0</td>\n",
       "      <td>0</td>\n",
       "      <td>1</td>\n",
       "      <td>2</td>\n",
       "    </tr>\n",
       "    <tr>\n",
       "      <th>815-819</th>\n",
       "      <td>6</td>\n",
       "      <td>0</td>\n",
       "      <td>0</td>\n",
       "      <td>0</td>\n",
       "      <td>0</td>\n",
       "    </tr>\n",
       "    <tr>\n",
       "      <th>820-824</th>\n",
       "      <td>0</td>\n",
       "      <td>0</td>\n",
       "      <td>0</td>\n",
       "      <td>1</td>\n",
       "      <td>0</td>\n",
       "    </tr>\n",
       "    <tr>\n",
       "      <th>830-834</th>\n",
       "      <td>1</td>\n",
       "      <td>0</td>\n",
       "      <td>0</td>\n",
       "      <td>0</td>\n",
       "      <td>0</td>\n",
       "    </tr>\n",
       "  </tbody>\n",
       "</table>\n",
       "</div>"
      ],
      "text/plain": [
       "Home_Ownership  MORTGAGE  NONE  OTHER  OWN  RENT\n",
       "FICO_Range                                      \n",
       "640-644                0     0      0    1     4\n",
       "645-649                1     0      0    0     2\n",
       "650-654                1     0      0    0     0\n",
       "655-659                0     0      1    0     3\n",
       "660-664               41     0      0   17    67\n",
       "665-669               52     0      0   18    75\n",
       "670-674               68     0      1   13    91\n",
       "675-679               79     0      1   11    75\n",
       "680-684               55     0      2    9    91\n",
       "685-689               61     0      0   10    65\n",
       "690-694               55     0      0   10    75\n",
       "695-699               68     0      0   10    75\n",
       "700-704               60     0      0   12    59\n",
       "705-709               66     0      0   12    56\n",
       "710-714               55     0      0   10    47\n",
       "715-719               46     0      0    2    45\n",
       "720-724               49     0      0    1    64\n",
       "725-729               48     0      0    5    41\n",
       "730-734               46     0      0    7    41\n",
       "735-739               30     0      0    6    29\n",
       "740-744               26     0      0    4    23\n",
       "745-749               26     0      0    7    21\n",
       "750-754               32     0      0    4    25\n",
       "755-759               28     0      0    6    12\n",
       "760-764               28     0      0    4    14\n",
       "765-769               22     0      0    3    11\n",
       "770-774               12     0      0    1     4\n",
       "775-779               13     0      0    3     6\n",
       "780-784               21     0      0    3     4\n",
       "785-789               12     0      0    2     5\n",
       "790-794               15     0      0    1     4\n",
       "795-799                7     0      0    1     5\n",
       "800-804                7     1      0    3     2\n",
       "805-809                6     0      0    2     3\n",
       "810-814                5     0      0    1     2\n",
       "815-819                6     0      0    0     0\n",
       "820-824                0     0      0    1     0\n",
       "830-834                1     0      0    0     0"
      ]
     },
     "execution_count": 132,
     "metadata": {},
     "output_type": "execute_result"
    }
   ],
   "source": [
    "observ_table=pd.crosstab(index=loan_data.FICO_Range, columns=loan_data.Home_Ownership)\n",
    "observ_table"
   ]
  },
  {
   "cell_type": "code",
   "execution_count": 133,
   "id": "f16a5028",
   "metadata": {},
   "outputs": [
    {
     "data": {
      "text/plain": [
       "(473.564802816852,\n",
       " 1.0065160858472195e-35,\n",
       " 148,\n",
       " array([[2.29600e+00, 2.00000e-03, 1.00000e-02, 4.00000e-01, 2.29200e+00],\n",
       "        [1.37760e+00, 1.20000e-03, 6.00000e-03, 2.40000e-01, 1.37520e+00],\n",
       "        [4.59200e-01, 4.00000e-04, 2.00000e-03, 8.00000e-02, 4.58400e-01],\n",
       "        [1.83680e+00, 1.60000e-03, 8.00000e-03, 3.20000e-01, 1.83360e+00],\n",
       "        [5.74000e+01, 5.00000e-02, 2.50000e-01, 1.00000e+01, 5.73000e+01],\n",
       "        [6.65840e+01, 5.80000e-02, 2.90000e-01, 1.16000e+01, 6.64680e+01],\n",
       "        [7.94416e+01, 6.92000e-02, 3.46000e-01, 1.38400e+01, 7.93032e+01],\n",
       "        [7.62272e+01, 6.64000e-02, 3.32000e-01, 1.32800e+01, 7.60944e+01],\n",
       "        [7.20944e+01, 6.28000e-02, 3.14000e-01, 1.25600e+01, 7.19688e+01],\n",
       "        [6.24512e+01, 5.44000e-02, 2.72000e-01, 1.08800e+01, 6.23424e+01],\n",
       "        [6.42880e+01, 5.60000e-02, 2.80000e-01, 1.12000e+01, 6.41760e+01],\n",
       "        [7.02576e+01, 6.12000e-02, 3.06000e-01, 1.22400e+01, 7.01352e+01],\n",
       "        [6.01552e+01, 5.24000e-02, 2.62000e-01, 1.04800e+01, 6.00504e+01],\n",
       "        [6.15328e+01, 5.36000e-02, 2.68000e-01, 1.07200e+01, 6.14256e+01],\n",
       "        [5.14304e+01, 4.48000e-02, 2.24000e-01, 8.96000e+00, 5.13408e+01],\n",
       "        [4.27056e+01, 3.72000e-02, 1.86000e-01, 7.44000e+00, 4.26312e+01],\n",
       "        [5.23488e+01, 4.56000e-02, 2.28000e-01, 9.12000e+00, 5.22576e+01],\n",
       "        [4.31648e+01, 3.76000e-02, 1.88000e-01, 7.52000e+00, 4.30896e+01],\n",
       "        [4.31648e+01, 3.76000e-02, 1.88000e-01, 7.52000e+00, 4.30896e+01],\n",
       "        [2.98480e+01, 2.60000e-02, 1.30000e-01, 5.20000e+00, 2.97960e+01],\n",
       "        [2.43376e+01, 2.12000e-02, 1.06000e-01, 4.24000e+00, 2.42952e+01],\n",
       "        [2.47968e+01, 2.16000e-02, 1.08000e-01, 4.32000e+00, 2.47536e+01],\n",
       "        [2.80112e+01, 2.44000e-02, 1.22000e-01, 4.88000e+00, 2.79624e+01],\n",
       "        [2.11232e+01, 1.84000e-02, 9.20000e-02, 3.68000e+00, 2.10864e+01],\n",
       "        [2.11232e+01, 1.84000e-02, 9.20000e-02, 3.68000e+00, 2.10864e+01],\n",
       "        [1.65312e+01, 1.44000e-02, 7.20000e-02, 2.88000e+00, 1.65024e+01],\n",
       "        [7.80640e+00, 6.80000e-03, 3.40000e-02, 1.36000e+00, 7.79280e+00],\n",
       "        [1.01024e+01, 8.80000e-03, 4.40000e-02, 1.76000e+00, 1.00848e+01],\n",
       "        [1.28576e+01, 1.12000e-02, 5.60000e-02, 2.24000e+00, 1.28352e+01],\n",
       "        [8.72480e+00, 7.60000e-03, 3.80000e-02, 1.52000e+00, 8.70960e+00],\n",
       "        [9.18400e+00, 8.00000e-03, 4.00000e-02, 1.60000e+00, 9.16800e+00],\n",
       "        [5.96960e+00, 5.20000e-03, 2.60000e-02, 1.04000e+00, 5.95920e+00],\n",
       "        [5.96960e+00, 5.20000e-03, 2.60000e-02, 1.04000e+00, 5.95920e+00],\n",
       "        [5.05120e+00, 4.40000e-03, 2.20000e-02, 8.80000e-01, 5.04240e+00],\n",
       "        [3.67360e+00, 3.20000e-03, 1.60000e-02, 6.40000e-01, 3.66720e+00],\n",
       "        [2.75520e+00, 2.40000e-03, 1.20000e-02, 4.80000e-01, 2.75040e+00],\n",
       "        [4.59200e-01, 4.00000e-04, 2.00000e-03, 8.00000e-02, 4.58400e-01],\n",
       "        [4.59200e-01, 4.00000e-04, 2.00000e-03, 8.00000e-02, 4.58400e-01]]))"
      ]
     },
     "execution_count": 133,
     "metadata": {},
     "output_type": "execute_result"
    }
   ],
   "source": [
    "stats.chi2_contingency(observ_table)"
   ]
  },
  {
   "cell_type": "markdown",
   "id": "ead176c9",
   "metadata": {},
   "source": [
    "v. Business Conclusion: \n",
    "* We reject the null hypothesis T\n",
    "             There is a relationship between FICO scores and null hypothesis"
   ]
  },
  {
   "cell_type": "markdown",
   "id": "932352b9",
   "metadata": {},
   "source": [
    "### Business Problem 2"
   ]
  },
  {
   "cell_type": "code",
   "execution_count": 134,
   "id": "b150120a",
   "metadata": {},
   "outputs": [
    {
     "data": {
      "text/html": [
       "<div>\n",
       "<style scoped>\n",
       "    .dataframe tbody tr th:only-of-type {\n",
       "        vertical-align: middle;\n",
       "    }\n",
       "\n",
       "    .dataframe tbody tr th {\n",
       "        vertical-align: top;\n",
       "    }\n",
       "\n",
       "    .dataframe thead th {\n",
       "        text-align: right;\n",
       "    }\n",
       "</style>\n",
       "<table border=\"1\" class=\"dataframe\">\n",
       "  <thead>\n",
       "    <tr style=\"text-align: right;\">\n",
       "      <th></th>\n",
       "      <th>Order_Number</th>\n",
       "      <th>Barry_Price</th>\n",
       "      <th>Mary_Price</th>\n",
       "    </tr>\n",
       "  </thead>\n",
       "  <tbody>\n",
       "    <tr>\n",
       "      <th>0</th>\n",
       "      <td>1</td>\n",
       "      <td>126</td>\n",
       "      <td>114</td>\n",
       "    </tr>\n",
       "    <tr>\n",
       "      <th>1</th>\n",
       "      <td>2</td>\n",
       "      <td>110</td>\n",
       "      <td>118</td>\n",
       "    </tr>\n",
       "    <tr>\n",
       "      <th>2</th>\n",
       "      <td>3</td>\n",
       "      <td>138</td>\n",
       "      <td>114</td>\n",
       "    </tr>\n",
       "    <tr>\n",
       "      <th>3</th>\n",
       "      <td>4</td>\n",
       "      <td>142</td>\n",
       "      <td>111</td>\n",
       "    </tr>\n",
       "    <tr>\n",
       "      <th>4</th>\n",
       "      <td>5</td>\n",
       "      <td>146</td>\n",
       "      <td>129</td>\n",
       "    </tr>\n",
       "    <tr>\n",
       "      <th>5</th>\n",
       "      <td>6</td>\n",
       "      <td>136</td>\n",
       "      <td>119</td>\n",
       "    </tr>\n",
       "    <tr>\n",
       "      <th>6</th>\n",
       "      <td>7</td>\n",
       "      <td>94</td>\n",
       "      <td>97</td>\n",
       "    </tr>\n",
       "    <tr>\n",
       "      <th>7</th>\n",
       "      <td>8</td>\n",
       "      <td>103</td>\n",
       "      <td>104</td>\n",
       "    </tr>\n",
       "    <tr>\n",
       "      <th>8</th>\n",
       "      <td>9</td>\n",
       "      <td>140</td>\n",
       "      <td>127</td>\n",
       "    </tr>\n",
       "    <tr>\n",
       "      <th>9</th>\n",
       "      <td>10</td>\n",
       "      <td>152</td>\n",
       "      <td>133</td>\n",
       "    </tr>\n",
       "    <tr>\n",
       "      <th>10</th>\n",
       "      <td>11</td>\n",
       "      <td>108</td>\n",
       "      <td>103</td>\n",
       "    </tr>\n",
       "    <tr>\n",
       "      <th>11</th>\n",
       "      <td>12</td>\n",
       "      <td>97</td>\n",
       "      <td>108</td>\n",
       "    </tr>\n",
       "  </tbody>\n",
       "</table>\n",
       "</div>"
      ],
      "text/plain": [
       "    Order_Number  Barry_Price  Mary_Price\n",
       "0              1          126         114\n",
       "1              2          110         118\n",
       "2              3          138         114\n",
       "3              4          142         111\n",
       "4              5          146         129\n",
       "5              6          136         119\n",
       "6              7           94          97\n",
       "7              8          103         104\n",
       "8              9          140         127\n",
       "9             10          152         133\n",
       "10            11          108         103\n",
       "11            12           97         108"
      ]
     },
     "execution_count": 134,
     "metadata": {},
     "output_type": "execute_result"
    }
   ],
   "source": [
    "price_quote_data=pd.read_csv(\"C:/Users/Rohit/Downloads/Python/Case Study/5 Hypothesis Testing/Price_Quotes.csv\")\n",
    "price_quote_data"
   ]
  },
  {
   "cell_type": "code",
   "execution_count": 135,
   "id": "ddff8a0b",
   "metadata": {},
   "outputs": [
    {
     "name": "stdout",
     "output_type": "stream",
     "text": [
      "<class 'pandas.core.frame.DataFrame'>\n",
      "RangeIndex: 12 entries, 0 to 11\n",
      "Data columns (total 3 columns):\n",
      " #   Column        Non-Null Count  Dtype\n",
      "---  ------        --------------  -----\n",
      " 0   Order_Number  12 non-null     int64\n",
      " 1   Barry_Price   12 non-null     int64\n",
      " 2   Mary_Price    12 non-null     int64\n",
      "dtypes: int64(3)\n",
      "memory usage: 416.0 bytes\n"
     ]
    }
   ],
   "source": [
    "price_quote_data.info()"
   ]
  },
  {
   "cell_type": "code",
   "execution_count": 136,
   "id": "6d6fa21a",
   "metadata": {},
   "outputs": [
    {
     "data": {
      "text/plain": [
       "124.33333333333333"
      ]
     },
     "execution_count": 136,
     "metadata": {},
     "output_type": "execute_result"
    }
   ],
   "source": [
    "price_quote_data.Barry_Price.mean()"
   ]
  },
  {
   "cell_type": "code",
   "execution_count": 137,
   "id": "5379d179",
   "metadata": {},
   "outputs": [
    {
     "data": {
      "text/plain": [
       "114.75"
      ]
     },
     "execution_count": 137,
     "metadata": {},
     "output_type": "execute_result"
    }
   ],
   "source": [
    "price_quote_data.Mary_Price.mean()"
   ]
  },
  {
   "cell_type": "markdown",
   "id": "3656e6c4",
   "metadata": {},
   "source": [
    "**i. H0:**\n",
    "           There is no difference in the average price quote by Barry and Mary\n",
    "           \n",
    "   **ii. Ha:**\n",
    "              There is a diference in the average price quote by Barry and Mary\n",
    "   \n",
    "   **iii. CI = 95%**\n",
    "      pvalue = 0.05\n",
    "       \n",
    "   **iv. Perform ttest :**"
   ]
  },
  {
   "cell_type": "code",
   "execution_count": 138,
   "id": "83963188",
   "metadata": {},
   "outputs": [
    {
     "data": {
      "text/plain": [
       "Ttest_indResult(statistic=1.4147436739281787, pvalue=0.17114226132118285)"
      ]
     },
     "execution_count": 138,
     "metadata": {},
     "output_type": "execute_result"
    }
   ],
   "source": [
    "stats.ttest_ind(price_quote_data.Barry_Price, price_quote_data.Mary_Price)"
   ]
  },
  {
   "cell_type": "markdown",
   "id": "f9be88ca",
   "metadata": {},
   "source": [
    "v. Business Conclusion: \n",
    "* We fail to reject the null hypopthesis\n",
    "           we are unable to find diference in the average price quote by Barry and Mary"
   ]
  },
  {
   "cell_type": "markdown",
   "id": "d64f3845",
   "metadata": {},
   "source": [
    "#### Determine what effect, if any, the reengineering effort had on the incidence behavioral problems and staff turnover. i.e To determine if the reengineering effort changed the critical incidence rate. Isthere evidence that the critical incidence rate improved?"
   ]
  },
  {
   "cell_type": "markdown",
   "id": "a1274fa0",
   "metadata": {},
   "source": [
    "### Business Problem 3|"
   ]
  },
  {
   "cell_type": "code",
   "execution_count": 139,
   "id": "74c1fd04",
   "metadata": {},
   "outputs": [
    {
     "data": {
      "text/html": [
       "<div>\n",
       "<style scoped>\n",
       "    .dataframe tbody tr th:only-of-type {\n",
       "        vertical-align: middle;\n",
       "    }\n",
       "\n",
       "    .dataframe tbody tr th {\n",
       "        vertical-align: top;\n",
       "    }\n",
       "\n",
       "    .dataframe thead th {\n",
       "        text-align: right;\n",
       "    }\n",
       "</style>\n",
       "<table border=\"1\" class=\"dataframe\">\n",
       "  <thead>\n",
       "    <tr style=\"text-align: right;\">\n",
       "      <th></th>\n",
       "      <th>Month</th>\n",
       "      <th>Reengineer</th>\n",
       "      <th>Employee_Turnover</th>\n",
       "      <th>VAR4</th>\n",
       "      <th>VAR5</th>\n",
       "    </tr>\n",
       "  </thead>\n",
       "  <tbody>\n",
       "    <tr>\n",
       "      <th>0</th>\n",
       "      <td>1</td>\n",
       "      <td>Prior</td>\n",
       "      <td>0.0000</td>\n",
       "      <td>24.390244</td>\n",
       "      <td>42.682927</td>\n",
       "    </tr>\n",
       "    <tr>\n",
       "      <th>1</th>\n",
       "      <td>2</td>\n",
       "      <td>Prior</td>\n",
       "      <td>6.0606</td>\n",
       "      <td>19.354839</td>\n",
       "      <td>25.806452</td>\n",
       "    </tr>\n",
       "    <tr>\n",
       "      <th>2</th>\n",
       "      <td>3</td>\n",
       "      <td>Prior</td>\n",
       "      <td>12.1212</td>\n",
       "      <td>35.087719</td>\n",
       "      <td>146.198830</td>\n",
       "    </tr>\n",
       "    <tr>\n",
       "      <th>3</th>\n",
       "      <td>4</td>\n",
       "      <td>Prior</td>\n",
       "      <td>3.3333</td>\n",
       "      <td>18.404908</td>\n",
       "      <td>110.429448</td>\n",
       "    </tr>\n",
       "    <tr>\n",
       "      <th>4</th>\n",
       "      <td>5</td>\n",
       "      <td>Prior</td>\n",
       "      <td>12.9032</td>\n",
       "      <td>17.964072</td>\n",
       "      <td>23.952096</td>\n",
       "    </tr>\n",
       "    <tr>\n",
       "      <th>5</th>\n",
       "      <td>6</td>\n",
       "      <td>Prior</td>\n",
       "      <td>9.6774</td>\n",
       "      <td>41.176471</td>\n",
       "      <td>47.058824</td>\n",
       "    </tr>\n",
       "    <tr>\n",
       "      <th>6</th>\n",
       "      <td>7</td>\n",
       "      <td>Prior</td>\n",
       "      <td>11.7647</td>\n",
       "      <td>13.422819</td>\n",
       "      <td>0.000000</td>\n",
       "    </tr>\n",
       "    <tr>\n",
       "      <th>7</th>\n",
       "      <td>8</td>\n",
       "      <td>Prior</td>\n",
       "      <td>11.4286</td>\n",
       "      <td>31.250000</td>\n",
       "      <td>25.000000</td>\n",
       "    </tr>\n",
       "    <tr>\n",
       "      <th>8</th>\n",
       "      <td>9</td>\n",
       "      <td>Prior</td>\n",
       "      <td>23.0769</td>\n",
       "      <td>17.241379</td>\n",
       "      <td>132.183908</td>\n",
       "    </tr>\n",
       "    <tr>\n",
       "      <th>9</th>\n",
       "      <td>10</td>\n",
       "      <td>Prior</td>\n",
       "      <td>15.0000</td>\n",
       "      <td>16.574586</td>\n",
       "      <td>16.574586</td>\n",
       "    </tr>\n",
       "    <tr>\n",
       "      <th>10</th>\n",
       "      <td>11</td>\n",
       "      <td>Prior</td>\n",
       "      <td>10.0000</td>\n",
       "      <td>5.917160</td>\n",
       "      <td>88.757396</td>\n",
       "    </tr>\n",
       "    <tr>\n",
       "      <th>11</th>\n",
       "      <td>12</td>\n",
       "      <td>Prior</td>\n",
       "      <td>26.0870</td>\n",
       "      <td>21.164021</td>\n",
       "      <td>31.746032</td>\n",
       "    </tr>\n",
       "    <tr>\n",
       "      <th>12</th>\n",
       "      <td>13</td>\n",
       "      <td>Prior</td>\n",
       "      <td>11.1111</td>\n",
       "      <td>5.076142</td>\n",
       "      <td>10.152284</td>\n",
       "    </tr>\n",
       "    <tr>\n",
       "      <th>13</th>\n",
       "      <td>14</td>\n",
       "      <td>Post</td>\n",
       "      <td>26.6667</td>\n",
       "      <td>9.708738</td>\n",
       "      <td>29.126214</td>\n",
       "    </tr>\n",
       "    <tr>\n",
       "      <th>14</th>\n",
       "      <td>15</td>\n",
       "      <td>Post</td>\n",
       "      <td>17.9487</td>\n",
       "      <td>4.201681</td>\n",
       "      <td>21.008403</td>\n",
       "    </tr>\n",
       "    <tr>\n",
       "      <th>15</th>\n",
       "      <td>16</td>\n",
       "      <td>Post</td>\n",
       "      <td>12.8205</td>\n",
       "      <td>13.043478</td>\n",
       "      <td>34.782609</td>\n",
       "    </tr>\n",
       "    <tr>\n",
       "      <th>16</th>\n",
       "      <td>17</td>\n",
       "      <td>Post</td>\n",
       "      <td>15.7895</td>\n",
       "      <td>9.950249</td>\n",
       "      <td>19.900498</td>\n",
       "    </tr>\n",
       "    <tr>\n",
       "      <th>17</th>\n",
       "      <td>18</td>\n",
       "      <td>Post</td>\n",
       "      <td>0.0000</td>\n",
       "      <td>9.950249</td>\n",
       "      <td>9.950249</td>\n",
       "    </tr>\n",
       "    <tr>\n",
       "      <th>18</th>\n",
       "      <td>19</td>\n",
       "      <td>Post</td>\n",
       "      <td>30.7692</td>\n",
       "      <td>8.510638</td>\n",
       "      <td>25.531915</td>\n",
       "    </tr>\n",
       "    <tr>\n",
       "      <th>19</th>\n",
       "      <td>20</td>\n",
       "      <td>Post</td>\n",
       "      <td>26.8293</td>\n",
       "      <td>9.259259</td>\n",
       "      <td>23.148148</td>\n",
       "    </tr>\n",
       "  </tbody>\n",
       "</table>\n",
       "</div>"
      ],
      "text/plain": [
       "    Month Reengineer  Employee_Turnover       VAR4        VAR5\n",
       "0       1      Prior             0.0000  24.390244   42.682927\n",
       "1       2      Prior             6.0606  19.354839   25.806452\n",
       "2       3      Prior            12.1212  35.087719  146.198830\n",
       "3       4      Prior             3.3333  18.404908  110.429448\n",
       "4       5      Prior            12.9032  17.964072   23.952096\n",
       "5       6      Prior             9.6774  41.176471   47.058824\n",
       "6       7      Prior            11.7647  13.422819    0.000000\n",
       "7       8      Prior            11.4286  31.250000   25.000000\n",
       "8       9      Prior            23.0769  17.241379  132.183908\n",
       "9      10      Prior            15.0000  16.574586   16.574586\n",
       "10     11      Prior            10.0000   5.917160   88.757396\n",
       "11     12      Prior            26.0870  21.164021   31.746032\n",
       "12     13      Prior            11.1111   5.076142   10.152284\n",
       "13     14       Post            26.6667   9.708738   29.126214\n",
       "14     15       Post            17.9487   4.201681   21.008403\n",
       "15     16       Post            12.8205  13.043478   34.782609\n",
       "16     17       Post            15.7895   9.950249   19.900498\n",
       "17     18       Post             0.0000   9.950249    9.950249\n",
       "18     19       Post            30.7692   8.510638   25.531915\n",
       "19     20       Post            26.8293   9.259259   23.148148"
      ]
     },
     "execution_count": 139,
     "metadata": {},
     "output_type": "execute_result"
    }
   ],
   "source": [
    "treat_facility=pd.read_csv(\"C:/Users/Rohit/Downloads/Python/Case Study/5 Hypothesis Testing/Treatment_Facility.csv\")\n",
    "treat_facility"
   ]
  },
  {
   "cell_type": "code",
   "execution_count": 140,
   "id": "883c9812",
   "metadata": {},
   "outputs": [
    {
     "name": "stdout",
     "output_type": "stream",
     "text": [
      "<class 'pandas.core.frame.DataFrame'>\n",
      "RangeIndex: 20 entries, 0 to 19\n",
      "Data columns (total 5 columns):\n",
      " #   Column             Non-Null Count  Dtype  \n",
      "---  ------             --------------  -----  \n",
      " 0   Month              20 non-null     int64  \n",
      " 1   Reengineer         20 non-null     object \n",
      " 2   Employee_Turnover  20 non-null     float64\n",
      " 3   VAR4               20 non-null     float64\n",
      " 4   VAR5               20 non-null     float64\n",
      "dtypes: float64(3), int64(1), object(1)\n",
      "memory usage: 928.0+ bytes\n"
     ]
    }
   ],
   "source": [
    "treat_facility.info()"
   ]
  },
  {
   "cell_type": "code",
   "execution_count": 141,
   "id": "e1ef2d5c",
   "metadata": {},
   "outputs": [],
   "source": [
    "treat_facility.rename(columns = {'VAR4' : 'TRFF', 'VAR5' : 'CI'}, inplace =True)"
   ]
  },
  {
   "cell_type": "code",
   "execution_count": 142,
   "id": "cc9274bb",
   "metadata": {},
   "outputs": [
    {
     "data": {
      "text/plain": [
       "0      42.682927\n",
       "1      25.806452\n",
       "2     146.198830\n",
       "3     110.429448\n",
       "4      23.952096\n",
       "5      47.058824\n",
       "6       0.000000\n",
       "7      25.000000\n",
       "8     132.183908\n",
       "9      16.574586\n",
       "10     88.757396\n",
       "11     31.746032\n",
       "12     10.152284\n",
       "Name: CI, dtype: float64"
      ]
     },
     "execution_count": 142,
     "metadata": {},
     "output_type": "execute_result"
    }
   ],
   "source": [
    "prior_ci = treat_facility.loc[treat_facility.Reengineer=='Prior', 'CI']\n",
    "prior_ci"
   ]
  },
  {
   "cell_type": "code",
   "execution_count": 143,
   "id": "40d8d1cd",
   "metadata": {},
   "outputs": [],
   "source": [
    "prior_ci_7months=prior_ci.loc[6:13:1, ]"
   ]
  },
  {
   "cell_type": "code",
   "execution_count": 144,
   "id": "46e08b40",
   "metadata": {},
   "outputs": [
    {
     "data": {
      "text/plain": [
       "43.487743735"
      ]
     },
     "execution_count": 144,
     "metadata": {},
     "output_type": "execute_result"
    }
   ],
   "source": [
    "prior_ci_7months.mean()"
   ]
  },
  {
   "cell_type": "code",
   "execution_count": 145,
   "id": "31569b33",
   "metadata": {},
   "outputs": [
    {
     "data": {
      "text/plain": [
       "13    29.126214\n",
       "14    21.008403\n",
       "15    34.782609\n",
       "16    19.900498\n",
       "17     9.950249\n",
       "18    25.531915\n",
       "19    23.148148\n",
       "Name: CI, dtype: float64"
      ]
     },
     "execution_count": 145,
     "metadata": {},
     "output_type": "execute_result"
    }
   ],
   "source": [
    "post_ci = treat_facility.loc[treat_facility.Reengineer=='Post', 'CI']\n",
    "post_ci"
   ]
  },
  {
   "cell_type": "code",
   "execution_count": 146,
   "id": "38eabcfc",
   "metadata": {},
   "outputs": [
    {
     "data": {
      "text/plain": [
       "23.34971927988571"
      ]
     },
     "execution_count": 146,
     "metadata": {},
     "output_type": "execute_result"
    }
   ],
   "source": [
    "post_ci.mean()"
   ]
  },
  {
   "cell_type": "markdown",
   "id": "83f7f9c6",
   "metadata": {},
   "source": [
    "**i. H0:**\n",
    "           u_prior < u_post \n",
    "           \n",
    "   **ii. Ha:**\n",
    "           u_prior > u_post\n",
    "   \n",
    "   **iii. CI = 95%**\n",
    "      pvalue = 0.05\n",
    "       \n",
    "   **iv. Perform ttest:**\n"
   ]
  },
  {
   "cell_type": "code",
   "execution_count": 147,
   "id": "acae9f5e",
   "metadata": {},
   "outputs": [
    {
     "data": {
      "text/plain": [
       "Ttest_relResult(statistic=1.1053112945653105, pvalue=0.31136482510821195)"
      ]
     },
     "execution_count": 147,
     "metadata": {},
     "output_type": "execute_result"
    }
   ],
   "source": [
    "stats.ttest_rel(prior_ci_7months, post_ci)"
   ]
  },
  {
   "cell_type": "markdown",
   "id": "2ca377f1",
   "metadata": {},
   "source": [
    "5. Business Conclusion:\n",
    "    \n",
    "    new p_value > p_values\n",
    "    \n",
    "    0.311 > 0.05\n",
    "    \n",
    "    accpet the H0!\n",
    "    \n",
    "    we can't say that reengineering effort improved critical incidence rate"
   ]
  },
  {
   "cell_type": "markdown",
   "id": "ab543f75",
   "metadata": {},
   "source": [
    "### Business Problem 4"
   ]
  },
  {
   "cell_type": "code",
   "execution_count": 148,
   "id": "e93bfef5",
   "metadata": {},
   "outputs": [
    {
     "data": {
      "text/html": [
       "<div>\n",
       "<style scoped>\n",
       "    .dataframe tbody tr th:only-of-type {\n",
       "        vertical-align: middle;\n",
       "    }\n",
       "\n",
       "    .dataframe tbody tr th {\n",
       "        vertical-align: top;\n",
       "    }\n",
       "\n",
       "    .dataframe thead th {\n",
       "        text-align: right;\n",
       "    }\n",
       "</style>\n",
       "<table border=\"1\" class=\"dataframe\">\n",
       "  <thead>\n",
       "    <tr style=\"text-align: right;\">\n",
       "      <th></th>\n",
       "      <th>Days</th>\n",
       "      <th>Priority</th>\n",
       "    </tr>\n",
       "  </thead>\n",
       "  <tbody>\n",
       "    <tr>\n",
       "      <th>0</th>\n",
       "      <td>3.3</td>\n",
       "      <td>High</td>\n",
       "    </tr>\n",
       "    <tr>\n",
       "      <th>1</th>\n",
       "      <td>7.9</td>\n",
       "      <td>Medium</td>\n",
       "    </tr>\n",
       "    <tr>\n",
       "      <th>2</th>\n",
       "      <td>0.3</td>\n",
       "      <td>High</td>\n",
       "    </tr>\n",
       "    <tr>\n",
       "      <th>3</th>\n",
       "      <td>0.7</td>\n",
       "      <td>Medium</td>\n",
       "    </tr>\n",
       "    <tr>\n",
       "      <th>4</th>\n",
       "      <td>8.6</td>\n",
       "      <td>Medium</td>\n",
       "    </tr>\n",
       "    <tr>\n",
       "      <th>...</th>\n",
       "      <td>...</td>\n",
       "      <td>...</td>\n",
       "    </tr>\n",
       "    <tr>\n",
       "      <th>637</th>\n",
       "      <td>2.5</td>\n",
       "      <td>Low</td>\n",
       "    </tr>\n",
       "    <tr>\n",
       "      <th>638</th>\n",
       "      <td>0.3</td>\n",
       "      <td>High</td>\n",
       "    </tr>\n",
       "    <tr>\n",
       "      <th>639</th>\n",
       "      <td>0.3</td>\n",
       "      <td>Medium</td>\n",
       "    </tr>\n",
       "    <tr>\n",
       "      <th>640</th>\n",
       "      <td>1.3</td>\n",
       "      <td>Medium</td>\n",
       "    </tr>\n",
       "    <tr>\n",
       "      <th>641</th>\n",
       "      <td>0.5</td>\n",
       "      <td>High</td>\n",
       "    </tr>\n",
       "  </tbody>\n",
       "</table>\n",
       "<p>642 rows × 2 columns</p>\n",
       "</div>"
      ],
      "text/plain": [
       "     Days Priority\n",
       "0     3.3     High\n",
       "1     7.9   Medium\n",
       "2     0.3     High\n",
       "3     0.7   Medium\n",
       "4     8.6   Medium\n",
       "..    ...      ...\n",
       "637   2.5      Low\n",
       "638   0.3     High\n",
       "639   0.3   Medium\n",
       "640   1.3   Medium\n",
       "641   0.5     High\n",
       "\n",
       "[642 rows x 2 columns]"
      ]
     },
     "execution_count": 148,
     "metadata": {},
     "output_type": "execute_result"
    }
   ],
   "source": [
    "priority_asessment=pd.read_csv(\"C:/Users/Rohit/Downloads/Python/Case Study/5 Hypothesis Testing/Priority_Assessment.csv\")\n",
    "priority_asessment"
   ]
  },
  {
   "cell_type": "code",
   "execution_count": 149,
   "id": "b54b50a3",
   "metadata": {},
   "outputs": [
    {
     "name": "stdout",
     "output_type": "stream",
     "text": [
      "<class 'pandas.core.frame.DataFrame'>\n",
      "RangeIndex: 642 entries, 0 to 641\n",
      "Data columns (total 2 columns):\n",
      " #   Column    Non-Null Count  Dtype  \n",
      "---  ------    --------------  -----  \n",
      " 0   Days      642 non-null    float64\n",
      " 1   Priority  642 non-null    object \n",
      "dtypes: float64(1), object(1)\n",
      "memory usage: 10.2+ KB\n"
     ]
    }
   ],
   "source": [
    "priority_asessment.info()"
   ]
  },
  {
   "cell_type": "code",
   "execution_count": 150,
   "id": "f74b3c48",
   "metadata": {},
   "outputs": [],
   "source": [
    "high_priority=priority_asessment.loc[priority_asessment.Priority=='High', 'Days']"
   ]
  },
  {
   "cell_type": "code",
   "execution_count": 151,
   "id": "8b6c54a1",
   "metadata": {},
   "outputs": [],
   "source": [
    "medium_priority=priority_asessment.loc[priority_asessment.Priority=='Medium', 'Days']"
   ]
  },
  {
   "cell_type": "code",
   "execution_count": 152,
   "id": "94df5842",
   "metadata": {},
   "outputs": [],
   "source": [
    "low_priority=priority_asessment.loc[priority_asessment.Priority=='Low', 'Days']"
   ]
  },
  {
   "cell_type": "code",
   "execution_count": 153,
   "id": "7c56d83b",
   "metadata": {},
   "outputs": [
    {
     "name": "stdout",
     "output_type": "stream",
     "text": [
      "Mean of high priority: 3.023619631901845\n",
      "Mean of medium priority: 2.5000000000000004\n",
      "Mean of low priority: 4.228358208955225\n"
     ]
    }
   ],
   "source": [
    "print('Mean of high priority:', high_priority.mean())\n",
    "print('Mean of medium priority:', medium_priority.mean())\n",
    "print('Mean of low priority:', low_priority.mean())"
   ]
  },
  {
   "cell_type": "markdown",
   "id": "28ee583c",
   "metadata": {},
   "source": [
    "**i. H0:**\n",
    "           prioritization system doesn't speeds up completion of high priority task  \n",
    "           \n",
    "   **ii. Ha:**\n",
    "          prioritization system speeds up completion of high priority task \n",
    "   \n",
    "   **iii. CI = 95%**\n",
    "      pvalue = 0.05\n",
    "       \n",
    "   **iv. Perform f-test:**"
   ]
  },
  {
   "cell_type": "code",
   "execution_count": 154,
   "id": "c267918b",
   "metadata": {},
   "outputs": [
    {
     "data": {
      "text/plain": [
       "F_onewayResult(statistic=1.812311010076072, pvalue=0.16411459461716182)"
      ]
     },
     "execution_count": 154,
     "metadata": {},
     "output_type": "execute_result"
    }
   ],
   "source": [
    "stats.f_oneway(high_priority, medium_priority, low_priority)"
   ]
  },
  {
   "cell_type": "markdown",
   "id": "434475fa",
   "metadata": {},
   "source": [
    "v. Business conclusion:\n",
    "\n",
    "    new p_value > p_value\n",
    "    \n",
    "    0.16 > 0.05\n",
    "    \n",
    "    accpet the H0!\n",
    "    \n",
    "    prioritization system brings no change in speeding completion of high priority task "
   ]
  },
  {
   "cell_type": "markdown",
   "id": "6381c78e",
   "metadata": {},
   "source": [
    "### Business Problem 5"
   ]
  },
  {
   "cell_type": "code",
   "execution_count": 155,
   "id": "252ba2ce",
   "metadata": {},
   "outputs": [
    {
     "data": {
      "text/html": [
       "<div>\n",
       "<style scoped>\n",
       "    .dataframe tbody tr th:only-of-type {\n",
       "        vertical-align: middle;\n",
       "    }\n",
       "\n",
       "    .dataframe tbody tr th {\n",
       "        vertical-align: top;\n",
       "    }\n",
       "\n",
       "    .dataframe thead th {\n",
       "        text-align: right;\n",
       "    }\n",
       "</style>\n",
       "<table border=\"1\" class=\"dataframe\">\n",
       "  <thead>\n",
       "    <tr style=\"text-align: right;\">\n",
       "      <th></th>\n",
       "      <th>_rowstate_</th>\n",
       "      <th>Movie</th>\n",
       "      <th>Gender</th>\n",
       "      <th>Marital_Status</th>\n",
       "      <th>Sinage</th>\n",
       "      <th>Parking</th>\n",
       "      <th>Clean</th>\n",
       "      <th>Overall</th>\n",
       "      <th>Age</th>\n",
       "      <th>Income</th>\n",
       "      <th>Hear_About</th>\n",
       "    </tr>\n",
       "  </thead>\n",
       "  <tbody>\n",
       "    <tr>\n",
       "      <th>0</th>\n",
       "      <td>0</td>\n",
       "      <td>Ferris Buellers Day Off</td>\n",
       "      <td>Female</td>\n",
       "      <td>Married</td>\n",
       "      <td>2.0</td>\n",
       "      <td>2.0</td>\n",
       "      <td>2.0</td>\n",
       "      <td>2.0</td>\n",
       "      <td>3.0</td>\n",
       "      <td>1.0</td>\n",
       "      <td>5</td>\n",
       "    </tr>\n",
       "    <tr>\n",
       "      <th>1</th>\n",
       "      <td>0</td>\n",
       "      <td>Ferris Buellers Day Off</td>\n",
       "      <td>Female</td>\n",
       "      <td>Single</td>\n",
       "      <td>1.0</td>\n",
       "      <td>1.0</td>\n",
       "      <td>1.0</td>\n",
       "      <td>1.0</td>\n",
       "      <td>2.0</td>\n",
       "      <td>1.0</td>\n",
       "      <td>5</td>\n",
       "    </tr>\n",
       "    <tr>\n",
       "      <th>2</th>\n",
       "      <td>0</td>\n",
       "      <td>Ferris Buellers Day Off</td>\n",
       "      <td>Male</td>\n",
       "      <td>Married</td>\n",
       "      <td>2.0</td>\n",
       "      <td>4.0</td>\n",
       "      <td>3.0</td>\n",
       "      <td>2.0</td>\n",
       "      <td>4.0</td>\n",
       "      <td>1.0</td>\n",
       "      <td>5</td>\n",
       "    </tr>\n",
       "    <tr>\n",
       "      <th>3</th>\n",
       "      <td>0</td>\n",
       "      <td>Ferris Buellers Day Off</td>\n",
       "      <td>Female</td>\n",
       "      <td>Married</td>\n",
       "      <td>1.0</td>\n",
       "      <td>3.0</td>\n",
       "      <td>2.0</td>\n",
       "      <td>2.0</td>\n",
       "      <td>4.0</td>\n",
       "      <td>1.0</td>\n",
       "      <td>5</td>\n",
       "    </tr>\n",
       "    <tr>\n",
       "      <th>4</th>\n",
       "      <td>0</td>\n",
       "      <td>Ferris Buellers Day Off</td>\n",
       "      <td>Female</td>\n",
       "      <td>Married</td>\n",
       "      <td>1.0</td>\n",
       "      <td>1.0</td>\n",
       "      <td>1.0</td>\n",
       "      <td>1.0</td>\n",
       "      <td>3.0</td>\n",
       "      <td>3.0</td>\n",
       "      <td>1</td>\n",
       "    </tr>\n",
       "    <tr>\n",
       "      <th>...</th>\n",
       "      <td>...</td>\n",
       "      <td>...</td>\n",
       "      <td>...</td>\n",
       "      <td>...</td>\n",
       "      <td>...</td>\n",
       "      <td>...</td>\n",
       "      <td>...</td>\n",
       "      <td>...</td>\n",
       "      <td>...</td>\n",
       "      <td>...</td>\n",
       "      <td>...</td>\n",
       "    </tr>\n",
       "    <tr>\n",
       "      <th>325</th>\n",
       "      <td>0</td>\n",
       "      <td>Old School</td>\n",
       "      <td>2</td>\n",
       "      <td>2</td>\n",
       "      <td>1.0</td>\n",
       "      <td>2.0</td>\n",
       "      <td>1.0</td>\n",
       "      <td>1.0</td>\n",
       "      <td>2.0</td>\n",
       "      <td>1.0</td>\n",
       "      <td>1</td>\n",
       "    </tr>\n",
       "    <tr>\n",
       "      <th>326</th>\n",
       "      <td>0</td>\n",
       "      <td>Old School</td>\n",
       "      <td>1</td>\n",
       "      <td>1</td>\n",
       "      <td>2.0</td>\n",
       "      <td>2.0</td>\n",
       "      <td>2.0</td>\n",
       "      <td>2.0</td>\n",
       "      <td>3.0</td>\n",
       "      <td>3.0</td>\n",
       "      <td>5</td>\n",
       "    </tr>\n",
       "    <tr>\n",
       "      <th>327</th>\n",
       "      <td>0</td>\n",
       "      <td>Old School</td>\n",
       "      <td>2</td>\n",
       "      <td>1</td>\n",
       "      <td>2.0</td>\n",
       "      <td>1.0</td>\n",
       "      <td>1.0</td>\n",
       "      <td>2.0</td>\n",
       "      <td>2.0</td>\n",
       "      <td>2.0</td>\n",
       "      <td>5</td>\n",
       "    </tr>\n",
       "    <tr>\n",
       "      <th>328</th>\n",
       "      <td>0</td>\n",
       "      <td>Old School</td>\n",
       "      <td>1</td>\n",
       "      <td>1</td>\n",
       "      <td>1.0</td>\n",
       "      <td>1.0</td>\n",
       "      <td>1.0</td>\n",
       "      <td>1.0</td>\n",
       "      <td>2.0</td>\n",
       "      <td>1.0</td>\n",
       "      <td>3</td>\n",
       "    </tr>\n",
       "    <tr>\n",
       "      <th>329</th>\n",
       "      <td>0</td>\n",
       "      <td>Old School</td>\n",
       "      <td>2</td>\n",
       "      <td>2</td>\n",
       "      <td>2.0</td>\n",
       "      <td>2.0</td>\n",
       "      <td>3.0</td>\n",
       "      <td>1.0</td>\n",
       "      <td>2.0</td>\n",
       "      <td>1.0</td>\n",
       "      <td>5</td>\n",
       "    </tr>\n",
       "  </tbody>\n",
       "</table>\n",
       "<p>330 rows × 11 columns</p>\n",
       "</div>"
      ],
      "text/plain": [
       "     _rowstate_                    Movie  Gender Marital_Status  Sinage  \\\n",
       "0             0  Ferris Buellers Day Off  Female        Married     2.0   \n",
       "1             0  Ferris Buellers Day Off  Female         Single     1.0   \n",
       "2             0  Ferris Buellers Day Off    Male        Married     2.0   \n",
       "3             0  Ferris Buellers Day Off  Female        Married     1.0   \n",
       "4             0  Ferris Buellers Day Off  Female        Married     1.0   \n",
       "..          ...                      ...     ...            ...     ...   \n",
       "325           0               Old School       2              2     1.0   \n",
       "326           0               Old School       1              1     2.0   \n",
       "327           0               Old School       2              1     2.0   \n",
       "328           0               Old School       1              1     1.0   \n",
       "329           0               Old School       2              2     2.0   \n",
       "\n",
       "     Parking  Clean  Overall  Age  Income Hear_About  \n",
       "0        2.0    2.0      2.0  3.0     1.0          5  \n",
       "1        1.0    1.0      1.0  2.0     1.0          5  \n",
       "2        4.0    3.0      2.0  4.0     1.0          5  \n",
       "3        3.0    2.0      2.0  4.0     1.0          5  \n",
       "4        1.0    1.0      1.0  3.0     3.0          1  \n",
       "..       ...    ...      ...  ...     ...        ...  \n",
       "325      2.0    1.0      1.0  2.0     1.0          1  \n",
       "326      2.0    2.0      2.0  3.0     3.0          5  \n",
       "327      1.0    1.0      2.0  2.0     2.0          5  \n",
       "328      1.0    1.0      1.0  2.0     1.0          3  \n",
       "329      2.0    3.0      1.0  2.0     1.0          5  \n",
       "\n",
       "[330 rows x 11 columns]"
      ]
     },
     "execution_count": 155,
     "metadata": {},
     "output_type": "execute_result"
    }
   ],
   "source": [
    "films=pd.read_csv(\"C:/Users/Rohit/Downloads/Python/Case Study/5 Hypothesis Testing/Films.csv\")\n",
    "films"
   ]
  },
  {
   "cell_type": "code",
   "execution_count": 156,
   "id": "ac78df1a",
   "metadata": {},
   "outputs": [
    {
     "name": "stdout",
     "output_type": "stream",
     "text": [
      "<class 'pandas.core.frame.DataFrame'>\n",
      "RangeIndex: 330 entries, 0 to 329\n",
      "Data columns (total 11 columns):\n",
      " #   Column          Non-Null Count  Dtype  \n",
      "---  ------          --------------  -----  \n",
      " 0   _rowstate_      330 non-null    int64  \n",
      " 1   Movie           330 non-null    object \n",
      " 2   Gender          330 non-null    object \n",
      " 3   Marital_Status  328 non-null    object \n",
      " 4   Sinage          328 non-null    float64\n",
      " 5   Parking         328 non-null    float64\n",
      " 6   Clean           327 non-null    float64\n",
      " 7   Overall         328 non-null    float64\n",
      " 8   Age             328 non-null    float64\n",
      " 9   Income          314 non-null    float64\n",
      " 10  Hear_About      323 non-null    object \n",
      "dtypes: float64(6), int64(1), object(4)\n",
      "memory usage: 28.5+ KB\n"
     ]
    }
   ],
   "source": [
    "films.info()"
   ]
  },
  {
   "cell_type": "code",
   "execution_count": 157,
   "id": "a2be0c9e",
   "metadata": {},
   "outputs": [],
   "source": [
    "cat_col=films.columns.difference(['Income'])"
   ]
  },
  {
   "cell_type": "code",
   "execution_count": 158,
   "id": "51ced4d7",
   "metadata": {},
   "outputs": [],
   "source": [
    "films[cat_col]=films[cat_col].apply(lambda x: x.fillna(x.mode()[0]))"
   ]
  },
  {
   "cell_type": "code",
   "execution_count": 159,
   "id": "dfee9503",
   "metadata": {},
   "outputs": [],
   "source": [
    "films.Income.fillna(films.Income.mean(), inplace= True)"
   ]
  },
  {
   "cell_type": "code",
   "execution_count": 160,
   "id": "94d065ce",
   "metadata": {},
   "outputs": [
    {
     "name": "stdout",
     "output_type": "stream",
     "text": [
      "<class 'pandas.core.frame.DataFrame'>\n",
      "RangeIndex: 330 entries, 0 to 329\n",
      "Data columns (total 11 columns):\n",
      " #   Column          Non-Null Count  Dtype  \n",
      "---  ------          --------------  -----  \n",
      " 0   _rowstate_      330 non-null    int64  \n",
      " 1   Movie           330 non-null    object \n",
      " 2   Gender          330 non-null    object \n",
      " 3   Marital_Status  330 non-null    object \n",
      " 4   Sinage          330 non-null    float64\n",
      " 5   Parking         330 non-null    float64\n",
      " 6   Clean           330 non-null    float64\n",
      " 7   Overall         330 non-null    float64\n",
      " 8   Age             330 non-null    float64\n",
      " 9   Income          330 non-null    float64\n",
      " 10  Hear_About      330 non-null    object \n",
      "dtypes: float64(6), int64(1), object(4)\n",
      "memory usage: 28.5+ KB\n"
     ]
    }
   ],
   "source": [
    "films.info()"
   ]
  },
  {
   "cell_type": "code",
   "execution_count": 161,
   "id": "5a578e56",
   "metadata": {},
   "outputs": [],
   "source": [
    "films['Gender']=films.Gender.str.replace('Male', '1')\n",
    "films['Gender']=films.Gender.str.replace('Female', '2')"
   ]
  },
  {
   "cell_type": "code",
   "execution_count": 162,
   "id": "a34f9977",
   "metadata": {},
   "outputs": [],
   "source": [
    "films['Marital_Status']=films.Gender.str.replace('Married', '1')\n",
    "films['Marital_Status']=films.Gender.str.replace('Single', '2')"
   ]
  },
  {
   "cell_type": "markdown",
   "id": "8888eaef",
   "metadata": {},
   "source": [
    "##### What is the overall level of customer satisfaction?"
   ]
  },
  {
   "cell_type": "code",
   "execution_count": 163,
   "id": "553e249a",
   "metadata": {},
   "outputs": [
    {
     "data": {
      "text/plain": [
       "2.0"
      ]
     },
     "execution_count": 163,
     "metadata": {},
     "output_type": "execute_result"
    }
   ],
   "source": [
    "films.Overall.mode()[0]"
   ]
  },
  {
   "cell_type": "markdown",
   "id": "b2895b89",
   "metadata": {},
   "source": [
    "The overall rating of customer satisfaction is Good"
   ]
  },
  {
   "cell_type": "markdown",
   "id": "3298a2b7",
   "metadata": {},
   "source": [
    "##### What factors are linked to satisfaction?"
   ]
  },
  {
   "cell_type": "code",
   "execution_count": 164,
   "id": "f4299c41",
   "metadata": {},
   "outputs": [
    {
     "data": {
      "text/html": [
       "<div>\n",
       "<style scoped>\n",
       "    .dataframe tbody tr th:only-of-type {\n",
       "        vertical-align: middle;\n",
       "    }\n",
       "\n",
       "    .dataframe tbody tr th {\n",
       "        vertical-align: top;\n",
       "    }\n",
       "\n",
       "    .dataframe thead th {\n",
       "        text-align: right;\n",
       "    }\n",
       "</style>\n",
       "<table border=\"1\" class=\"dataframe\">\n",
       "  <thead>\n",
       "    <tr style=\"text-align: right;\">\n",
       "      <th></th>\n",
       "      <th>_rowstate_</th>\n",
       "      <th>Sinage</th>\n",
       "      <th>Parking</th>\n",
       "      <th>Clean</th>\n",
       "      <th>Overall</th>\n",
       "      <th>Age</th>\n",
       "      <th>Income</th>\n",
       "    </tr>\n",
       "  </thead>\n",
       "  <tbody>\n",
       "    <tr>\n",
       "      <th>_rowstate_</th>\n",
       "      <td>NaN</td>\n",
       "      <td>NaN</td>\n",
       "      <td>NaN</td>\n",
       "      <td>NaN</td>\n",
       "      <td>NaN</td>\n",
       "      <td>NaN</td>\n",
       "      <td>NaN</td>\n",
       "    </tr>\n",
       "    <tr>\n",
       "      <th>Sinage</th>\n",
       "      <td>NaN</td>\n",
       "      <td>1.000000</td>\n",
       "      <td>0.469180</td>\n",
       "      <td>0.349144</td>\n",
       "      <td>0.382103</td>\n",
       "      <td>-0.089461</td>\n",
       "      <td>-0.036968</td>\n",
       "    </tr>\n",
       "    <tr>\n",
       "      <th>Parking</th>\n",
       "      <td>NaN</td>\n",
       "      <td>0.469180</td>\n",
       "      <td>1.000000</td>\n",
       "      <td>0.440771</td>\n",
       "      <td>0.514429</td>\n",
       "      <td>-0.023468</td>\n",
       "      <td>-0.023575</td>\n",
       "    </tr>\n",
       "    <tr>\n",
       "      <th>Clean</th>\n",
       "      <td>NaN</td>\n",
       "      <td>0.349144</td>\n",
       "      <td>0.440771</td>\n",
       "      <td>1.000000</td>\n",
       "      <td>0.350822</td>\n",
       "      <td>-0.000114</td>\n",
       "      <td>0.016643</td>\n",
       "    </tr>\n",
       "    <tr>\n",
       "      <th>Overall</th>\n",
       "      <td>NaN</td>\n",
       "      <td>0.382103</td>\n",
       "      <td>0.514429</td>\n",
       "      <td>0.350822</td>\n",
       "      <td>1.000000</td>\n",
       "      <td>-0.032904</td>\n",
       "      <td>-0.005568</td>\n",
       "    </tr>\n",
       "    <tr>\n",
       "      <th>Age</th>\n",
       "      <td>NaN</td>\n",
       "      <td>-0.089461</td>\n",
       "      <td>-0.023468</td>\n",
       "      <td>-0.000114</td>\n",
       "      <td>-0.032904</td>\n",
       "      <td>1.000000</td>\n",
       "      <td>0.136119</td>\n",
       "    </tr>\n",
       "    <tr>\n",
       "      <th>Income</th>\n",
       "      <td>NaN</td>\n",
       "      <td>-0.036968</td>\n",
       "      <td>-0.023575</td>\n",
       "      <td>0.016643</td>\n",
       "      <td>-0.005568</td>\n",
       "      <td>0.136119</td>\n",
       "      <td>1.000000</td>\n",
       "    </tr>\n",
       "  </tbody>\n",
       "</table>\n",
       "</div>"
      ],
      "text/plain": [
       "            _rowstate_    Sinage   Parking     Clean   Overall       Age  \\\n",
       "_rowstate_         NaN       NaN       NaN       NaN       NaN       NaN   \n",
       "Sinage             NaN  1.000000  0.469180  0.349144  0.382103 -0.089461   \n",
       "Parking            NaN  0.469180  1.000000  0.440771  0.514429 -0.023468   \n",
       "Clean              NaN  0.349144  0.440771  1.000000  0.350822 -0.000114   \n",
       "Overall            NaN  0.382103  0.514429  0.350822  1.000000 -0.032904   \n",
       "Age                NaN -0.089461 -0.023468 -0.000114 -0.032904  1.000000   \n",
       "Income             NaN -0.036968 -0.023575  0.016643 -0.005568  0.136119   \n",
       "\n",
       "              Income  \n",
       "_rowstate_       NaN  \n",
       "Sinage     -0.036968  \n",
       "Parking    -0.023575  \n",
       "Clean       0.016643  \n",
       "Overall    -0.005568  \n",
       "Age         0.136119  \n",
       "Income      1.000000  "
      ]
     },
     "execution_count": 164,
     "metadata": {},
     "output_type": "execute_result"
    }
   ],
   "source": [
    "films.corr()"
   ]
  },
  {
   "cell_type": "markdown",
   "id": "e819f655",
   "metadata": {},
   "source": [
    "Factors that are directly affecting satisfaction are  parking> signage > clean"
   ]
  },
  {
   "cell_type": "markdown",
   "id": "4494885f",
   "metadata": {},
   "source": [
    "##### What is the demographic profile of Film on the Rocks patrons?"
   ]
  },
  {
   "cell_type": "code",
   "execution_count": 165,
   "id": "d05173d9",
   "metadata": {},
   "outputs": [
    {
     "name": "stdout",
     "output_type": "stream",
     "text": [
      "2    213\n",
      "1    117\n",
      "Name: Gender, dtype: int64\n",
      "More no. of females went for the film as compared to males\n"
     ]
    }
   ],
   "source": [
    "print(films.Gender.value_counts())\n",
    "print('More no. of females went for the film as compared to males')"
   ]
  },
  {
   "cell_type": "code",
   "execution_count": 166,
   "id": "af856c89",
   "metadata": {},
   "outputs": [
    {
     "name": "stdout",
     "output_type": "stream",
     "text": [
      "2.0    177\n",
      "3.0    117\n",
      "1.0     26\n",
      "4.0     10\n",
      "Name: Age, dtype: int64\n",
      "Maximum people went for the films were of  Age group 13-30 and 31-60\n"
     ]
    }
   ],
   "source": [
    "print(films.Age.value_counts())\n",
    "print('Maximum people went for the films were of  Age group 13-30 and 31-60')"
   ]
  },
  {
   "cell_type": "code",
   "execution_count": 167,
   "id": "01911392",
   "metadata": {},
   "outputs": [
    {
     "name": "stdout",
     "output_type": "stream",
     "text": [
      "1.000000    142\n",
      "3.000000     90\n",
      "2.000000     82\n",
      "1.834395     16\n",
      "Name: Income, dtype: int64\n",
      "Maximum people went for the films were having income less than $50000\n"
     ]
    }
   ],
   "source": [
    "print(films.Income.value_counts())\n",
    "print('Maximum people went for the films were having income less than $50000')"
   ]
  },
  {
   "cell_type": "code",
   "execution_count": 168,
   "id": "02442246",
   "metadata": {},
   "outputs": [
    {
     "name": "stdout",
     "output_type": "stream",
     "text": [
      "2    213\n",
      "1    117\n",
      "Name: Marital_Status, dtype: int64\n",
      "Maximum people went for the film were Single\n"
     ]
    }
   ],
   "source": [
    "print(films.Marital_Status.value_counts())\n",
    "print('Maximum people went for the film were Single')"
   ]
  },
  {
   "cell_type": "markdown",
   "id": "b462d51b",
   "metadata": {},
   "source": [
    "##### In what media outlet(s) should the film series be advertised?"
   ]
  },
  {
   "cell_type": "code",
   "execution_count": 169,
   "id": "4e6bd341",
   "metadata": {},
   "outputs": [
    {
     "name": "stdout",
     "output_type": "stream",
     "text": [
      "5      233\n",
      "4       41\n",
      "1       22\n",
      "3       14\n",
      "2       12\n",
      "2,5      2\n",
      "3,4      2\n",
      "4,5      1\n",
      "1,5      1\n",
      "5,4      1\n",
      "3,5      1\n",
      "Name: Hear_About, dtype: int64\n",
      "Fims should be advertised through word of mouth and on website\n"
     ]
    }
   ],
   "source": [
    "print(films.Hear_About.value_counts())\n",
    "print('Fims should be advertised through word of mouth and on website')"
   ]
  },
  {
   "cell_type": "code",
   "execution_count": null,
   "id": "65a38c14",
   "metadata": {},
   "outputs": [],
   "source": []
  }
 ],
 "metadata": {
  "kernelspec": {
   "display_name": "Python 3 (ipykernel)",
   "language": "python",
   "name": "python3"
  },
  "language_info": {
   "codemirror_mode": {
    "name": "ipython",
    "version": 3
   },
   "file_extension": ".py",
   "mimetype": "text/x-python",
   "name": "python",
   "nbconvert_exporter": "python",
   "pygments_lexer": "ipython3",
   "version": "3.9.12"
  }
 },
 "nbformat": 4,
 "nbformat_minor": 5
}
